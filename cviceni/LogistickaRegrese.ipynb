{
 "cells": [
  {
   "cell_type": "code",
   "execution_count": 1,
   "metadata": {},
   "outputs": [],
   "source": [
    "import numpy as np\n",
    "import matplotlib.pylab as plt\n",
    "import sklearn.metrics as skm\n",
    "import sys\n",
    "sys.path.insert(0, '../zdrojaky/logreg')\n",
    "from logreg import LogReg\n",
    "np.set_printoptions(suppress=True)"
   ]
  },
  {
   "cell_type": "markdown",
   "metadata": {},
   "source": [
    "# Logistická regrese\n",
    "\n",
    "Praktickou ukázkou použití logistické regrese (nebo libovolné jiné vhodné klasifikační metody) je určování, zda daný pixel získaný z fotografie obličeje patří ke kůži (Skin) či nikoliv (NonSkin). Pro testování algorimů se využívá databáze *Skin Segmentation Dataset* (Bhatt & Dhall) získaná náhodným vzorkováním RGB (Red-Green-Blue) hodnot pixelů z obličejů různých věkových skupin (young-middle-old) a rasových skupin (white-black-asian) z databází FERET a PAL. Dataset obsahuje celkem 245 057 řádků s hodnotami B, G, R a příslušností k třídě Skin (1) resp. NonSkin (2). Z toho je 194 198 vzorků NonSkin a 50 859 Skin. V tomto příkladu použijeme 1000 náhodně vybraných vzorků a sekvenčně je zkusíme oklasifikovat logistickou regresí.\n",
    "\n",
    "Tři náhodně vybrané datové řádky:\n",
    "\n",
    "    ---\n",
    "    B, G, R, Class\n",
    "    242, 169, 161,   2\n",
    "    218, 211, 202,   2\n",
    "    110, 150, 209,   1\n",
    "    ---\n",
    "    \n",
    "**Použijeme regresor ve tvaru $x_t = [1, B_t, G_t, R_t]$, normální apriorní distribuci $\\mathcal{N}$(**_0_**, 100**_I_**) a mez _m_=0.5.**"
   ]
  },
  {
   "cell_type": "markdown",
   "metadata": {},
   "source": [
    "Nejprve načteme data. Protože jsou uspořádána, náhodně je promícháme."
   ]
  },
  {
   "cell_type": "code",
   "execution_count": 2,
   "metadata": {},
   "outputs": [
    {
     "name": "stdout",
     "output_type": "stream",
     "text": [
      "První tři řádky v pořadí [B, G, R, class]:\n",
      "[[242. 169. 161.   2.]\n",
      " [218. 211. 202.   2.]\n",
      " [110. 150. 209.   1.]]\n"
     ]
    }
   ],
   "source": [
    "np.random.seed(1234)\n",
    "ndat = 5000\n",
    "\n",
    "fn = 'Skin_NonSkin.txt'\n",
    "data = np.loadtxt(fn)\n",
    "np.random.shuffle(data)\n",
    "data = data[:ndat]\n",
    "\n",
    "print(\"První tři řádky v pořadí [B, G, R, class]:\")\n",
    "print(data[:3])"
   ]
  },
  {
   "cell_type": "markdown",
   "metadata": {},
   "source": [
    "Všimněte si, že třídy jsou oklasifikovány jako 1 a 2 (Skin a NonSkin). \n",
    "\n",
    "\n",
    "**Úkol 1: Musíme tedy od posledního sloupce odečíst jedničku.**\n",
    "\n",
    "\n",
    "**Úkol 2: Rozdělte data na regresory (BGR) - proměnná `X` a třídy - proměnná `y`. Upravte regresor, aby odpovídal požadované podobě (sloupec jedniček).**"
   ]
  },
  {
   "cell_type": "code",
   "execution_count": 3,
   "metadata": {},
   "outputs": [
    {
     "name": "stdout",
     "output_type": "stream",
     "text": [
      "První tři regresory [1, B, G, R]:\n",
      " [[  1. 242. 169. 161.]\n",
      " [  1. 218. 211. 202.]\n",
      " [  1. 110. 150. 209.]]\n",
      "\n",
      "První tři měření yt:\n",
      " [1. 1. 0.]\n"
     ]
    }
   ],
   "source": [
    "data[:,3] -= 1\n",
    "X = np.hstack((np.ones((data.shape[0],1)), data[:,:3]))\n",
    "y = data[:,-1]\n",
    "\n",
    "print(\"První tři regresory [1, B, G, R]:\\n\", X[:3])\n",
    "print(\"\\nPrvní tři měření yt:\\n\", y[:3])"
   ]
  },
  {
   "cell_type": "markdown",
   "metadata": {},
   "source": [
    "Použijeme apriorní distribuci $\\mathcal{N}([0, 0, 0, 0], 100I_{4\\times 4}).$"
   ]
  },
  {
   "cell_type": "code",
   "execution_count": 4,
   "metadata": {},
   "outputs": [],
   "source": [
    "#%% Prior\n",
    "beta_hat = np.zeros(X.shape[-1])\n",
    "Sigma = np.eye(X.shape[-1]) * 100.\n",
    "prior = LogReg(mean=beta_hat, Sigma=Sigma)"
   ]
  },
  {
   "cell_type": "markdown",
   "metadata": {},
   "source": [
    "Pustíme odhad - apriorno updatujeme vždy o jeden regresor a pozorovanou třídu (Skin-NonSkin)"
   ]
  },
  {
   "cell_type": "code",
   "execution_count": 5,
   "metadata": {},
   "outputs": [],
   "source": [
    "#%% Estimation\n",
    "for xt, yt in zip(X, y):\n",
    "    prior.update(yt, xt)\n",
    "    prior.log()"
   ]
  },
  {
   "cell_type": "markdown",
   "metadata": {},
   "source": [
    "Podívejme se na vývoj odhadů a jejich neurčitosti. Ta je dána variancemi odhadů - to jsou diagonální prvky v kovariančních maticích (proč?). Podívejme se také, jaké jsou rozměry logů."
   ]
  },
  {
   "cell_type": "code",
   "execution_count": 6,
   "metadata": {},
   "outputs": [
    {
     "name": "stdout",
     "output_type": "stream",
     "text": [
      "Rozměr beta_log: (5000, 4)\n",
      "Rozměr beta_vars_log: (5000, 4, 4)\n"
     ]
    }
   ],
   "source": [
    "beta_log = np.array(prior.mean_log)\n",
    "beta_vars_log = np.array(prior.Sigma_log)\n",
    "\n",
    "print(f'Rozměr beta_log: {beta_log.shape}')\n",
    "print(f'Rozměr beta_vars_log: {beta_vars_log.shape}')"
   ]
  },
  {
   "cell_type": "markdown",
   "metadata": {},
   "source": [
    "`beta_log` má tolik řádků, kolik bylo dat (odhadů). `beta_vars_log` jsou kovariční matice uspořádané do pole, kde první rozměr je počet dat (odhadů) a další rozměry jsou celé kovarianční matice. Chceme ale jen diagonální prvky - variance jednotlivých prvků vektoru $\\hat\\beta$."
   ]
  },
  {
   "cell_type": "code",
   "execution_count": 7,
   "metadata": {},
   "outputs": [
    {
     "name": "stdout",
     "output_type": "stream",
     "text": [
      "Nový rozměr beta_vars_log: (5000, 4)\n"
     ]
    }
   ],
   "source": [
    "beta_vars_log = beta_vars_log.diagonal(axis1=1, axis2=2)\n",
    "print(f'Nový rozměr beta_vars_log: {beta_vars_log.shape}')"
   ]
  },
  {
   "cell_type": "markdown",
   "metadata": {},
   "source": [
    "Vykreslíme si vývoj odhadů. V levém sloupci jsou postupně hodnoty všech složek $\\hat\\beta$ pro `1`, `R`, `G`, `B`. V pravém je vývoj směrodatné odchylky. Jak je vidět, nejpomaleji konverguje odhad pro offset."
   ]
  },
  {
   "cell_type": "code",
   "execution_count": 8,
   "metadata": {},
   "outputs": [
    {
     "data": {
      "image/png": "[encoded data removed]",
      "text/plain": [
       "<Figure size 720x576 with 8 Axes>"
      ]
     },
     "metadata": {
      "needs_background": "light"
     },
     "output_type": "display_data"
    }
   ],
   "source": [
    "plt.figure(1, figsize=(10,8))\n",
    "for i in range(beta_hat.size):\n",
    "    plt.subplot(beta_hat.size, 2, 2*i+1)\n",
    "    plt.plot(beta_log[:,i])\n",
    "    plt.subplot(beta_hat.size, 2, 2*i+2)\n",
    "    plt.plot(np.sqrt(beta_vars_log[:,i]))"
   ]
  },
  {
   "cell_type": "markdown",
   "metadata": {},
   "source": [
    "Finální odhady $\\hat\\beta$ jsou:"
   ]
  },
  {
   "cell_type": "code",
   "execution_count": 9,
   "metadata": {},
   "outputs": [
    {
     "name": "stdout",
     "output_type": "stream",
     "text": [
      "odhad beta = [ 4.1873  0.0234 -0.0041 -0.0342]\n"
     ]
    }
   ],
   "source": [
    "print(f'odhad beta = {np.array2string(beta_log[-1], precision=4)}')"
   ]
  },
  {
   "cell_type": "markdown",
   "metadata": {},
   "source": [
    "Podívejme se ještě na vývoj Brierova skore. Očekávali bychom, že s přibývajícími daty bude odhad přesnější, tj. skore bude postupně klesat."
   ]
  },
  {
   "cell_type": "code",
   "execution_count": 10,
   "metadata": {},
   "outputs": [
    {
     "data": {
      "image/png": "[encoded data removed]",
      "text/plain": [
       "<Figure size 576x288 with 1 Axes>"
      ]
     },
     "metadata": {
      "needs_background": "light"
     },
     "output_type": "display_data"
    }
   ],
   "source": [
    "plt.figure(figsize=(8, 4))\n",
    "plt.plot(prior.brier_score_log)\n",
    "plt.xlabel('t')\n",
    "plt.ylabel('Brier score')\n",
    "plt.show()"
   ]
  },
  {
   "cell_type": "markdown",
   "metadata": {},
   "source": [
    "Do finále můžeme spočítat nějaké metriky pomocí sklearn."
   ]
  },
  {
   "cell_type": "code",
   "execution_count": 11,
   "metadata": {},
   "outputs": [
    {
     "name": "stdout",
     "output_type": "stream",
     "text": [
      "Matice záměn:\n",
      "[[ 870  205]\n",
      " [ 237 3688]]\n",
      "\n",
      "Classification report\n",
      "              precision    recall  f1-score   support\n",
      "\n",
      "         0.0       0.79      0.81      0.80      1075\n",
      "         1.0       0.95      0.94      0.94      3925\n",
      "\n",
      "    accuracy                           0.91      5000\n",
      "   macro avg       0.87      0.87      0.87      5000\n",
      "weighted avg       0.91      0.91      0.91      5000\n",
      "\n"
     ]
    }
   ],
   "source": [
    "# Matice záměn\n",
    "print('Matice záměn:')\n",
    "cm = skm.confusion_matrix(prior.true_vals, prior.binary_preds)\n",
    "print(cm)\n",
    "\n",
    "print('\\nClassification report')\n",
    "report = skm.classification_report(prior.true_vals, prior.binary_preds)\n",
    "print(report)"
   ]
  },
  {
   "cell_type": "markdown",
   "metadata": {},
   "source": [
    "### Porovnání se statickou logistickou regresí\n",
    "\n",
    "V `sklearn` je k dispozici modul pro logistickou regresi z hotového balíku dat. Ten využívá numerickou optimalizaci, jež je dražší, než naše laplaceovská. A neumí jet sekvenčně, tj. pro každé nové měření bychom museli kompletně přepočítat na všech datech. Porovnejme aspoň výsledky:"
   ]
  },
  {
   "cell_type": "code",
   "execution_count": 12,
   "metadata": {},
   "outputs": [],
   "source": [
    "from sklearn.linear_model import LogisticRegression"
   ]
  },
  {
   "cell_type": "markdown",
   "metadata": {},
   "source": [
    "`sklearn.LogisticRegression` má extra parametr na fitování offsetu, čili matice X nebude obsahovat jedničky:"
   ]
  },
  {
   "cell_type": "code",
   "execution_count": 13,
   "metadata": {},
   "outputs": [
    {
     "name": "stdout",
     "output_type": "stream",
     "text": [
      "[[242. 169. 161.   1.]\n",
      " [218. 211. 202.   1.]\n",
      " [110. 150. 209.   0.]]\n"
     ]
    },
    {
     "data": {
      "text/plain": [
       "(5000, 3)"
      ]
     },
     "execution_count": 13,
     "metadata": {},
     "output_type": "execute_result"
    }
   ],
   "source": [
    "print(data[:3])\n",
    "X = data[:,:3]\n",
    "y = data[:,-1]\n",
    "X.shape"
   ]
  },
  {
   "cell_type": "markdown",
   "metadata": {},
   "source": [
    "Pustíme fitování:"
   ]
  },
  {
   "cell_type": "code",
   "execution_count": 14,
   "metadata": {},
   "outputs": [],
   "source": [
    "clf = LogisticRegression(random_state=0, solver='lbfgs',fit_intercept=True,\n",
    "                         multi_class='auto').fit(X, y)"
   ]
  },
  {
   "cell_type": "markdown",
   "metadata": {},
   "source": [
    "Porovnejme nafitované koeficienty $\\hat\\beta$:"
   ]
  },
  {
   "cell_type": "code",
   "execution_count": 15,
   "metadata": {},
   "outputs": [
    {
     "name": "stdout",
     "output_type": "stream",
     "text": [
      "Staticky: [[ 4.2672  0.0251 -0.0056 -0.0348]]\n",
      "Sekvenčně: [ 4.1873  0.0234 -0.0041 -0.0342]\n"
     ]
    }
   ],
   "source": [
    "print(f'Staticky: {np.array2string(np.c_[clf.intercept_, clf.coef_], precision=4)}')\n",
    "print(f'Sekvenčně: {np.array2string(prior.mean, precision=4,)}')"
   ]
  },
  {
   "cell_type": "code",
   "execution_count": 16,
   "metadata": {},
   "outputs": [
    {
     "name": "stdout",
     "output_type": "stream",
     "text": [
      "Matice záměn staticky:\n",
      "[[ 890  185]\n",
      " [ 219 3706]]\n",
      "\n",
      "Report statického fitování:\n",
      "              precision    recall  f1-score   support\n",
      "\n",
      "         0.0       0.80      0.83      0.82      1075\n",
      "         1.0       0.95      0.94      0.95      3925\n",
      "\n",
      "    accuracy                           0.92      5000\n",
      "   macro avg       0.88      0.89      0.88      5000\n",
      "weighted avg       0.92      0.92      0.92      5000\n",
      "\n"
     ]
    }
   ],
   "source": [
    "print('Matice záměn staticky:')\n",
    "preds = clf.predict(X)\n",
    "print(skm.confusion_matrix(prior.true_vals, preds))\n",
    "\n",
    "print('\\nReport statického fitování:')\n",
    "print(skm.classification_report(prior.true_vals, preds))"
   ]
  },
  {
   "cell_type": "markdown",
   "metadata": {},
   "source": [
    "Nenechme se mýlit pocitem, že statické fitování je (o chlup) lepší! Bayesovské sekvenční fitování totiž ztratilo nějaké body na prvních datech, kde ještě o $\\beta$ moc nevědělo, ale už ho odhadovalo. Statický výpočet nejprve spočetl odhady na *všech* datech a následně s těmito odhady predikoval. Pro férové porovnání bychom museli pouštět `sklearn.LogisticRegression` postupně na jednom, dvou,... měřeních. A to by trvalo celou věčnost. V tom je výrazná výhoda sekvenčního modelování.\n",
    "\n",
    "Dalším velkým rozdílem je, že v dynamickém modelování jsme zvolili jen jeden krok Newtonovy metody. Kdybychom se trochu víc rozmáchli, byl by výsledek také lepší. Oproti tomu statické modelování použilo L-BFGS a mělo k dispozici teoreticky až 100 iterací."
   ]
  }
 ],
 "metadata": {
  "kernelspec": {
   "display_name": "Python 3",
   "language": "python",
   "name": "python3"
  },
  "language_info": {
   "codemirror_mode": {
    "name": "ipython",
    "version": 3
   },
   "file_extension": ".py",
   "mimetype": "text/x-python",
   "name": "python",
   "nbconvert_exporter": "python",
   "pygments_lexer": "ipython3",
   "version": "3.8.2"
  }
 },
 "nbformat": 4,
 "nbformat_minor": 2
}
