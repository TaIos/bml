{
 "cells": [
  {
   "cell_type": "code",
   "execution_count": 1,
   "metadata": {},
   "outputs": [],
   "source": [
    "import numpy as np\n",
    "import matplotlib.pylab as plt\n",
    "np.set_printoptions(precision=2)\n",
    "import scipy.io as sio"
   ]
  },
  {
   "cell_type": "code",
   "execution_count": 28,
   "metadata": {},
   "outputs": [],
   "source": [
    "D = sio.loadmat(\"data_rnu11.mat\")[\"D\"]\n",
    "strana = 64\n",
    "p = strana*strana\n",
    "n = 120"
   ]
  },
  {
   "cell_type": "markdown",
   "metadata": {},
   "source": [
    "# Pouzijte NMF na data ze scintigrafie\n",
    "Je vhodne upravit update pravidla nasledujicim zpusobem:\n",
    "\\begin{align}\n",
    "X^{T}\\leftarrow & X^{T}\\circ\\left(\\left(A^{T}D\\right)\\oslash\\left(A^{T}AX^{T} + \\epsilon\\right)\\right)\\\\\n",
    "A\\leftarrow & A\\circ\\left(\\left(DX\\right)\\oslash\\left(AX^{T}X + \\epsilon\\right)\\right)\n",
    "\\end{align}\n",
    "Zkuste nejprve $\\epsilon = 0$ a pak $\\epsilon > 0$."
   ]
  },
  {
   "cell_type": "code",
   "execution_count": null,
   "metadata": {},
   "outputs": [],
   "source": []
  },
  {
   "cell_type": "markdown",
   "metadata": {},
   "source": [
    "...a na data z hyperspektralniho snimkovani."
   ]
  },
  {
   "cell_type": "code",
   "execution_count": 31,
   "metadata": {},
   "outputs": [],
   "source": [
    "D = sio.loadmat(\"cviko_hyperspektral.mat\")[\"D\"]\n",
    "strana = 150\n",
    "p = strana*strana\n",
    "n = 210"
   ]
  },
  {
   "cell_type": "code",
   "execution_count": null,
   "metadata": {},
   "outputs": [],
   "source": []
  }
 ],
 "metadata": {
  "kernelspec": {
   "display_name": "Python 3",
   "language": "python",
   "name": "python3"
  },
  "language_info": {
   "codemirror_mode": {
    "name": "ipython",
    "version": 3
   },
   "file_extension": ".py",
   "mimetype": "text/x-python",
   "name": "python",
   "nbconvert_exporter": "python",
   "pygments_lexer": "ipython3",
   "version": "3.5.2"
  }
 },
 "nbformat": 4,
 "nbformat_minor": 2
}
