{
 "cells": [
  {
   "cell_type": "markdown",
   "metadata": {},
   "source": [
    "# Odhad regresních koeficientů\n"
   ]
  },
  {
   "cell_type": "code",
   "execution_count": null,
   "metadata": {},
   "outputs": [],
   "source": [
    "import numpy as np\n",
    "import matplotlib.pylab as plt\n",
    "np.set_printoptions(precision=2)\n",
    "import scipy.io as sio"
   ]
  },
  {
   "cell_type": "markdown",
   "metadata": {},
   "source": [
    "Nejprve si nagenerujeme data dle modelu\n",
    "$$\n",
    "\\mathbf{y} = X\\boldsymbol{\\beta}+\\mathbf{e}\n",
    "$$"
   ]
  },
  {
   "cell_type": "code",
   "execution_count": null,
   "metadata": {},
   "outputs": [],
   "source": [
    "p = 20 ### pocet mereni\n",
    "n = 15 # pocet regresnich koeficientu\n",
    "\n",
    "if 1:\n",
    "    # matice regresnich koeficientu\n",
    "    X = np.random.randn(p,n)\n",
    "    ind = X < 0\n",
    "    X[ind] = 0\n",
    "    # tento vektor budeme odhadovat\n",
    "    beta_true = np.array([0,0,0,1,0,0,1,1,1,0,0,0,0,0,0])\n",
    "\n",
    "    # chceme spatnou podminenost\n",
    "    ind = [0,1,2]\n",
    "    X[:,ind] = X[:,ind]/100\n",
    "    \n",
    "    # chceme sum\n",
    "    y = np.transpose(X@beta_true + 0.3*np.random.randn(p)) ### sila sumu je volitelna\n",
    "    y.shape = (p,1)\n",
    "    ind2 = y<0\n",
    "    y[ind2] = 0\n",
    "    #print(y)\n",
    "else:\n",
    "    # data pouzita v prednasce\n",
    "    X = sio.loadmat(\"lin_reg_data.mat\")[\"X\"]\n",
    "    y = sio.loadmat(\"lin_reg_data.mat\")[\"y\"]\n",
    "    beta_true = sio.loadmat(\"lin_reg_data.mat\")[\"beta_true\"]\n",
    "    #print(y)\n",
    "\n",
    "plt.imshow(np.log(X),interpolation='none')\n",
    "\n",
    "#---------------------------------------------\n",
    "# vykreslete do jednoho grafu mereni a generovana data\n",
    "#---------------------------------------------"
   ]
  },
  {
   "cell_type": "markdown",
   "metadata": {},
   "source": [
    "## Obyčejné nejmenší čtverce"
   ]
  },
  {
   "cell_type": "code",
   "execution_count": null,
   "metadata": {},
   "outputs": [],
   "source": [
    "beta_ols = np.zeros(n)\n",
    "#---------------------------------------------\n",
    "# spocitejte a vykreslete reseni pomoci nejmensich ctvercu\n",
    "#---------------------------------------------\n",
    "\n",
    "plt.plot(beta_true,color='red',linestyle='dashed')"
   ]
  },
  {
   "cell_type": "markdown",
   "metadata": {},
   "source": [
    "## Nejmenší čtverce s Tichonovovou regularizací"
   ]
  },
  {
   "cell_type": "code",
   "execution_count": null,
   "metadata": {},
   "outputs": [],
   "source": [
    "alpha = 1e-2 ### regularizacni koeficient\n",
    "beta_tich = np.zeros(n)\n",
    "#---------------------------------------------\n",
    "# spocitejte a vykreslete reseni pomoci nejmensich ctvercu s Tichonovou regularizaci\n",
    "#---------------------------------------------\n",
    "\n",
    "plt.plot(beta_true,color='red',linestyle='dashed')"
   ]
  },
  {
   "cell_type": "markdown",
   "metadata": {},
   "source": [
    "### Pro rychlejší (nyní přeskočte): hledání parametru $\\alpha$ pomocí L-křivky\n",
    "...tedy zobrazení grafu $||\\boldsymbol{\\beta}||$ vůči $||\\mathbf{y}-X\\boldsymbol{\\beta}||$."
   ]
  },
  {
   "cell_type": "code",
   "execution_count": null,
   "metadata": {
    "scrolled": true
   },
   "outputs": [],
   "source": [
    "norm_b = []\n",
    "norm_yXb = []\n",
    "\n",
    "#---------------------------------------------\n",
    "# spocitejte pro danny rozsah normy vhodne pro vytvoreni L-krivku\n",
    "# L-krivku vykreslete a vyberte vhodne alpha\n",
    "#---------------------------------------------\n",
    "for i in range(-30,30):\n",
    "    alpha = np.power(10,i/10)\n",
    "    #...\n",
    "\n",
    "    \n",
    "plt.subplot(211)\n",
    "plt.plot(norm_b,norm_yXb,'x')\n",
    "\n",
    "#---------------------------------------------\n",
    "# vybrane alpha pouzijte a vysledek vykreslete\n",
    "#---------------------------------------------\n",
    "\n",
    "plt.subplot(212)\n",
    "plt.plot(beta_true,color='red',linestyle='dashed')\n"
   ]
  },
  {
   "cell_type": "markdown",
   "metadata": {},
   "source": [
    "## Bayesovská ridge regression\n",
    "Připomeňme soustavu implicitních rovnic (odvozenou na přednášce) pro aposteriorní rozdělení $\\tilde{f}(\\boldsymbol{\\beta}|\\mathbf{y})=\\mathcal{N}(\\mu_\\boldsymbol{\\beta},\\Sigma_\\boldsymbol{\\beta})$ a $\\tilde{f}(\\omega|\\mathbf{y})=\\mathcal{G}(c,d)$ s tvarovacími parametry:\n",
    "$$\n",
    "\\Sigma_{\\boldsymbol{\\beta}}= \\left(\\widehat{\\omega}X^{T}X+I_{n}\\right)^{-1}\n",
    "$$\n",
    "$$\n",
    "\\mu_{\\boldsymbol{\\beta}}= \\Sigma_{\\boldsymbol{\\beta}}\\widehat{\\omega}X^{T}\\mathbf{y}\n",
    "$$\n",
    "$$\n",
    "c= c_{0}+\\frac{p}{2}\\\\\n",
    "$$\n",
    "$$\n",
    "d= d_{0}+\\frac{1}{2}\\left(\\mathbf{y}\\mathbf{y}^{T}-2\\mathbf{y}^{T}X\\widehat{\\boldsymbol{\\beta}}+\\text{trace}[\\widehat{\\boldsymbol{\\beta}\\boldsymbol{\\beta}^{T}}X^{T}X]\\right)\n",
    "$$\n",
    "...a příslušné momenty:\n",
    "$$\n",
    "\\widehat{\\boldsymbol{\\beta}} = \\mu_{\\boldsymbol{\\beta}}\n",
    "$$\n",
    "$$\n",
    "\\widehat{\\boldsymbol{\\beta}\\boldsymbol{\\beta}^T} = \\mu_{\\boldsymbol{\\beta}}\\mu_{\\boldsymbol{\\beta}}^T + \\Sigma_{\\boldsymbol{\\beta}}\n",
    "$$\n",
    "$$\n",
    "\\widehat{\\omega} = c/d\n",
    "$$"
   ]
  },
  {
   "cell_type": "code",
   "execution_count": null,
   "metadata": {},
   "outputs": [],
   "source": [
    "c0 = 1e-10\n",
    "d0 = 1e-10\n",
    "hat_omega = 1/np.ndarray.max(X)\n",
    "hist_omega = []\n",
    "for i in range(1,100): # budeme iterovat 100x, uvidime, ze to staci\n",
    "    #---------------------------------------------\n",
    "    # spocitejte tvarovaci parametry a momenty \\beta\n",
    "    #---------------------------------------------\n",
    "    \n",
    "    \n",
    "    #---------------------------------------------\n",
    "    # spocitejte tvarovaci parametry a momenty \\omega\n",
    "    #---------------------------------------------\n",
    "\n",
    "\n",
    "# vysledek ulozime a vytiskneme\n",
    "beta_VBridge = hat_beta\n",
    "    \n",
    "plt.plot(beta_true,color='red',linestyle='dashed')\n",
    "plt.plot(beta_VBridge)\n",
    "\n",
    "#---------------------------------------------\n",
    "# pro rychlejsi: ukladejte hodnoty \\omega v prubehu iteraci a graf vyvoje vytisknete\n",
    "#---------------------------------------------\n",
    "plt.figure()\n",
    "plt.plot(hist_omega)"
   ]
  },
  {
   "cell_type": "markdown",
   "metadata": {},
   "source": [
    "## Bayesovská sparse regression\n",
    "$$\n",
    "\\Sigma_{\\boldsymbol{\\beta}}= \\left(\\widehat{\\omega}X^{T}X+diag(\\widehat{v})\\right)^{-1}\n",
    "$$\n",
    "$$\n",
    "\\mu_{\\boldsymbol{\\beta}}= \\Sigma_{\\boldsymbol{\\beta}}\\widehat{\\omega}X^{T}\\mathbf{y}\n",
    "$$\n",
    "$$\n",
    "c= c_{0}+\\frac{p}{2}\n",
    "$$\n",
    "$$\n",
    "d= d_{0}+\\frac{1}{2}\\left(\\mathbf{y}\\mathbf{y}^{T}-2\\mathbf{y}^{T}X\\widehat{\\boldsymbol{\\beta}}+\\text{trace}[\\widehat{\\boldsymbol{\\beta}\\boldsymbol{\\beta}^{T}}X^{T}X]\\right)\n",
    "$$\n",
    "$$\n",
    "a_j = a_0 + \\frac{1}{2}\n",
    "$$\n",
    "$$\n",
    "b_j = b_0 + \\frac{1}{2}(\\widehat{\\boldsymbol{\\beta}\\boldsymbol{\\beta}^{T}})_{j,j}\n",
    "$$\n",
    "...a příslušné momenty:\n",
    "$$\n",
    "\\widehat{\\boldsymbol{\\beta}} = \\mu_{\\boldsymbol{\\beta}}\n",
    "$$\n",
    "$$\n",
    "\\widehat{\\boldsymbol{\\beta}\\boldsymbol{\\beta}^T} = \\mu_{\\boldsymbol{\\beta}}\\mu_{\\boldsymbol{\\beta}}^T + \\Sigma_{\\boldsymbol{\\beta}}\n",
    "$$\n",
    "$$\n",
    "\\widehat{\\omega} = c/d\n",
    "$$\n",
    "$$\n",
    "\\widehat{v}_j = \\frac{a_j}{b_j}\n",
    "$$"
   ]
  },
  {
   "cell_type": "code",
   "execution_count": null,
   "metadata": {},
   "outputs": [],
   "source": [
    "c0 = 1e-10\n",
    "d0 = 1e-10\n",
    "a0 = 1e-10\n",
    "b0 = 1e-10\n",
    "\n",
    "hat_v = np.ones(n)\n",
    "hat_omega = 1/np.ndarray.max(X)\n",
    "\n",
    "for i in range(1,100):\n",
    "    #---------------------------------------------\n",
    "    # spocitejte tvarovaci parametry a momenty \\beta\n",
    "    #---------------------------------------------\n",
    "\n",
    "    \n",
    "    #---------------------------------------------\n",
    "    # spocitejte tvarovaci parametry a momenty vektoru \"v\"\n",
    "    #---------------------------------------------\n",
    "\n",
    "    \n",
    "    #---------------------------------------------\n",
    "    # spocitejte tvarovaci parametry a momenty \\omega (staci zkopirovat z predchoziho)\n",
    "    #---------------------------------------------\n",
    "\n",
    "    \n",
    "# vysledek ulozime a vytiskneme\n",
    "beta_VBsparse = hat_beta\n",
    "    \n",
    "plt.plot(beta_true,color='red',linestyle='dashed')"
   ]
  }
 ],
 "metadata": {
  "kernelspec": {
   "display_name": "Python 3",
   "language": "python",
   "name": "python3"
  },
  "language_info": {
   "codemirror_mode": {
    "name": "ipython",
    "version": 3
   },
   "file_extension": ".py",
   "mimetype": "text/x-python",
   "name": "python",
   "nbconvert_exporter": "python",
   "pygments_lexer": "ipython3",
   "version": "3.5.2"
  }
 },
 "nbformat": 4,
 "nbformat_minor": 2
}
