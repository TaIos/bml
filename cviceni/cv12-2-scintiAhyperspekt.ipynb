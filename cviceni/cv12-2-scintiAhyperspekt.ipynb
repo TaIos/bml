{
 "cells": [
  {
   "cell_type": "code",
   "execution_count": 1,
   "metadata": {},
   "outputs": [],
   "source": [
    "import numpy as np\n",
    "import matplotlib.pylab as plt\n",
    "np.set_printoptions(precision=2)\n",
    "import scipy.io as sio"
   ]
  },
  {
   "cell_type": "code",
   "execution_count": 28,
   "metadata": {},
   "outputs": [],
   "source": [
    "D = sio.loadmat(\"data_rnu11.mat\")[\"D\"]\n",
    "strana = 64\n",
    "p = strana*strana\n",
    "n = 120"
   ]
  },
  {
   "cell_type": "markdown",
   "metadata": {},
   "source": [
    "## Použijte bayesovskou maticovou dekompozici na data ze scintigrafie\n",
    "\n",
    "Poznámka: získat pozitivní řešení, jak jsme si ho popisovali na přednášce, je náročnější. Proto udělejte následující heuristiku pro favorizování pozitivního řešení:\n",
    "\n",
    "ind = muA<0\n",
    "\n",
    "muA[ind] = muA[ind]/5\n",
    "\n",
    "ind = muX<0\n",
    "\n",
    "muX[ind] = muX[ind]/5"
   ]
  },
  {
   "cell_type": "code",
   "execution_count": null,
   "metadata": {},
   "outputs": [],
   "source": [
    "r = 5 ### nastavime predpokladany pocet zdroju\n",
    "\n",
    "# apriorno\n",
    "theta0 = 1e-10\n",
    "rho0 = 1e-10\n",
    "alpha0 = 1e-10\n",
    "beta0 = 1e-10\n",
    "\n",
    "# nastavime nejake inicializacni hodnoty pro A a X\n",
    "hX = np.full((n,r),1)\n",
    "#hX = np.random.rand(n,r)\n",
    "hXtX = np.eye(r)\n",
    "homega = 1\n",
    "hv = np.ones(r)\n",
    "\n",
    "for i in range(0,100):\n",
    "    \n",
    "    # vypocet\n",
    "    \n",
    "plt.figure(figsize=(16, 10))\n",
    "for i in range(1,r+1):\n",
    "    plt.subplot(2,r,i)\n",
    "    plt.imshow(hA[:,i-1].reshape(strana,strana).T,interpolation='none')\n",
    "    plt.title('zdroj %s'%i)\n",
    "    plt.subplot(2,r,i+r)\n",
    "    plt.plot(hX[:,i-1])"
   ]
  },
  {
   "cell_type": "markdown",
   "metadata": {},
   "source": [
    "# Pouzijte NMF na data ze scintigrafie\n",
    "Je vhodne upravit update pravidla nasledujicim zpusobem:\n",
    "\\begin{align}\n",
    "X^{T}\\leftarrow & X^{T}\\circ\\left(\\left(A^{T}D\\right)\\oslash\\left(A^{T}AX^{T} + \\epsilon\\right)\\right)\\\\\n",
    "A\\leftarrow & A\\circ\\left(\\left(DX\\right)\\oslash\\left(AX^{T}X + \\epsilon\\right)\\right)\n",
    "\\end{align}\n",
    "Zkuste nejprve $\\epsilon = 0$ a pak $\\epsilon > 0$."
   ]
  },
  {
   "cell_type": "code",
   "execution_count": null,
   "metadata": {},
   "outputs": [],
   "source": []
  },
  {
   "cell_type": "markdown",
   "metadata": {},
   "source": [
    "## ...a na data z hyperspektralniho snimkovani."
   ]
  },
  {
   "cell_type": "code",
   "execution_count": 31,
   "metadata": {},
   "outputs": [],
   "source": [
    "D = sio.loadmat(\"cviko_hyperspektral.mat\")[\"D\"]\n",
    "strana = 150\n",
    "p = strana*strana\n",
    "n = 210"
   ]
  },
  {
   "cell_type": "code",
   "execution_count": null,
   "metadata": {},
   "outputs": [],
   "source": []
  }
 ],
 "metadata": {
  "kernelspec": {
   "display_name": "Python 3",
   "language": "python",
   "name": "python3"
  },
  "language_info": {
   "codemirror_mode": {
    "name": "ipython",
    "version": 3
   },
   "file_extension": ".py",
   "mimetype": "text/x-python",
   "name": "python",
   "nbconvert_exporter": "python",
   "pygments_lexer": "ipython3",
   "version": "3.5.2"
  }
 },
 "nbformat": 4,
 "nbformat_minor": 2
}
