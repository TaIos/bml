{
 "cells": [
  {
   "cell_type": "code",
   "execution_count": 1,
   "metadata": {},
   "outputs": [],
   "source": [
    "import numpy as np\n",
    "import matplotlib.pylab as plt\n",
    "np.set_printoptions(precision=2)\n",
    "import scipy.io as sio"
   ]
  },
  {
   "cell_type": "markdown",
   "metadata": {},
   "source": [
    "# Cvicna data\n",
    "Nejprve si nagenerujeme (nebo nacteme) data podle modelu\n",
    "$$\n",
    "D=AX^T+E\n",
    "$$\n",
    "kde $A$ je matice zdrojovych obrazku (ulozenych vektorizovane ve sloupcich), $X$ je matice vah techto zdroju, $E_{i,j}\\sim N(0,\\sigma)$. "
   ]
  },
  {
   "cell_type": "code",
   "execution_count": 2,
   "metadata": {},
   "outputs": [
    {
     "data": {
      "image/png": "[encoded data removed]",
      "text/plain": [
       "<Figure size 432x288 with 4 Axes>"
      ]
     },
     "metadata": {},
     "output_type": "display_data"
    }
   ],
   "source": [
    "strana = 15 ### strana zdrojoveho obrazku\n",
    "p = np.power(strana,2)\n",
    "n = 20 ### pocet mereni\n",
    "\n",
    "er = 2 # simulovany pocet zdroju\n",
    "if 1:\n",
    "    D = sio.loadmat(\"cvicna_data.mat\")[\"D\"]\n",
    "    A_true = sio.loadmat(\"cvicna_data.mat\")[\"A\"]\n",
    "    X_true = sio.loadmat(\"cvicna_data.mat\")[\"X\"]\n",
    "else:\n",
    "    ### muzete si zkusit nagenerovat sami\n",
    "    A_true = np.zeros(p,er)\n",
    "    X_true = np.zeros(n,er)\n",
    "    D = A@X.T\n",
    "    \n",
    "    \n",
    "    \n",
    "plt.figure()\n",
    "r = 2\n",
    "for i in range(1,r+1):\n",
    "    plt.subplot(2,r,i)\n",
    "    plt.imshow(A_true[:,i-1].reshape(strana,strana),interpolation='none')\n",
    "    plt.title('zdroj %s'%i)\n",
    "    plt.subplot(2,r,r+i)\n",
    "    plt.plot(X_true[:,i-1])"
   ]
  },
  {
   "cell_type": "markdown",
   "metadata": {},
   "source": [
    "# Non-negative matrix factorization\n",
    "My si vyzkousime verzi (Lee and Seung, Algorithms for non-negative matrix factorization, NIPS 2001), ktera alternuje nasledujici updatovaci pravidla:\n",
    "\\begin{align}\n",
    "X^{T}\\leftarrow & X^{T}\\circ\\left(\\left(A^{T}D\\right)\\oslash\\left(A^{T}AX^{T}\\right)\\right)\\\\\n",
    "A\\leftarrow & A\\circ\\left(\\left(DX\\right)\\oslash\\left(AX^{T}X\\right)\\right)\n",
    "\\end{align}\n",
    "kde $\\circ$ je nasobeni \"po prvcich\" a $\\oslash$ je deleni\n",
    "\"po prvcich\"."
   ]
  },
  {
   "cell_type": "code",
   "execution_count": null,
   "metadata": {},
   "outputs": [],
   "source": [
    "r = 2 ### nastavime predpokladany pocet zdroju\n",
    "\n",
    "# nastavime nejake inicializacni hodnoty pro A a X\n",
    "\n",
    "\n",
    "# vytvorte for-cyklus, ktery 100x vykona updatovaci pravidla NMF\n",
    "\n",
    "    \n",
    "plt.figure()\n",
    "for i in range(1,r+1):\n",
    "    plt.subplot(2,r,i)\n",
    "    plt.imshow(A[:,i-1].reshape(strana,strana),interpolation='none')\n",
    "    plt.title('zdroj %s'%i)\n",
    "    plt.subplot(2,r,r+i)\n",
    "    plt.plot(X[:,i-1])"
   ]
  },
  {
   "cell_type": "markdown",
   "metadata": {},
   "source": [
    "# Variacni PCA\n",
    "Pripomenme soustavu implicitnich rovnic odvozenych na prednasce, kde jsme odvodili tvarovaci parametry aposteriornich rozdeleni \n",
    "\\begin{align}\n",
    "\\tilde{f}(\\omega|D,r)&=G_{\\omega}(\\vartheta,\\rho)\\\\\n",
    "\\tilde{f}(A|D,r)&=N_{A}(\\mu_{A},I_{p}\\otimes\\Sigma_{A})\\\\\n",
    "\\tilde{f}(X|D,r)&=N_{X}(\\mu_{X},I_{n}\\otimes\\Sigma_{X})\n",
    "\\end{align}\n",
    "jako\n",
    "\\begin{align}\n",
    "\\vartheta&= \\vartheta_{0}+\\frac{np}{2}\\\\\n",
    "\\rho&= \\rho_{0}+\\frac{1}{2}\\text{tr}\\left(DD^{T}-\\widehat{A}\\widehat{X}^{T}D^{T}-D\\widehat{X}\\widehat{A}^{T}\\right)+\\frac{1}{2}\\text{tr}\\left(\\widehat{A^{T}A}\\widehat{X^{T}X}\\right)\\\\\n",
    "\\Sigma_{A}&=\\left(\\widehat{\\omega}\\widehat{X^{T}X}+I_{r}\\right)^{-1}\\\\\n",
    "\\mu_{A}&=\\widehat{\\omega}D\\widehat{X}\\Sigma_{A}\\\\\n",
    "\\Sigma_{X}&=\\left(\\widehat{\\omega}\\widehat{A^{T}A}+I_{r}\\right)^{-1}\\\\\n",
    "\\mu_{X}&=\\widehat{\\omega}D^{T}\\widehat{A}\\Sigma_{X}.\n",
    "\\end{align}\n",
    "\n",
    "Pripomenme, ze moment gamma rozdeleni $G_\\omega(\\vartheta,\\rho)$ je\n",
    "$$\n",
    "\\widehat{\\omega} = \\frac{\\vartheta}{\\rho}\n",
    "$$\n",
    "a momenty maticoveho normalniho rozdeleni $N_B(\\mu_B,\\Sigma_p\\otimes \\Sigma_n)$ jsou\n",
    "\\begin{align}\n",
    "\\widehat{B} &= \\mu_B\\\\\n",
    "\\widehat{B^T B} &= \\mu_B^T \\mu_B + \\text{tr}(\\Sigma_p)\\Sigma_n.\n",
    "\\end{align}"
   ]
  },
  {
   "cell_type": "code",
   "execution_count": null,
   "metadata": {},
   "outputs": [],
   "source": [
    "r = 2 ### nastavime predpokladany pocet zdroju\n",
    "\n",
    "# apriorno\n",
    "theta0 = 1e-10\n",
    "rho0 = 1e-10\n",
    "\n",
    "# nastavime nejake inicializacni hodnoty pro A a X\n",
    "hX = np.full((n,r),1)\n",
    "#hX = np.random.rand(n,r)\n",
    "hXtX = np.eye(r)\n",
    "homega = 1\n",
    "\n",
    "\n",
    "for i in range(0,100):\n",
    "    \n",
    "    # spocitame tvarovaci parametry a momenty A\n",
    "\n",
    "    \n",
    "    # spocitame tvarovaci parametry a momenty X\n",
    "  \n",
    "    \n",
    "    # spocitame tvarovaci parametry a moment omega\n",
    "    \n",
    "    \n",
    "    \n",
    "plt.figure()\n",
    "for i in range(1,r+1):\n",
    "    plt.subplot(2,r,i)\n",
    "    plt.imshow(hA[:,i-1].reshape(strana,strana),interpolation='none')\n",
    "    plt.title('zdroj %s'%i)\n",
    "    plt.subplot(2,r,r+i)\n",
    "    plt.plot(hX[:,i-1])\n",
    "\n",
    "\n"
   ]
  },
  {
   "cell_type": "markdown",
   "metadata": {},
   "source": [
    "# Variacni PCA s odhadem poctu komponent\n",
    "Pripomenme soustavu implicitnich rovnic odvozenych na prednasce, kde jsme odvodili tvarovaci parametry aposteriornich rozdeleni\n",
    "\\begin{align}\n",
    "\\tilde{f}(\\omega|D,r)&=G_{\\omega}(\\vartheta,\\rho),\\\\\n",
    "\\tilde{f}(X|D,r)&=N_{X}(\\mu_{X},I_{n}\\otimes\\Sigma_{X}),\\\\\n",
    "\\tilde{f}(A|D,r)&=N_{A}(\\mu_{A},I_{p}\\otimes\\Sigma_{A}),\\\\\n",
    "\\tilde{f}(v_{k}|D,r)&=G_{v_{k}}(\\alpha_{k},\\beta_{k}),\n",
    "\\end{align}\n",
    "s tvarovacimi parametry\n",
    "\\begin{align}\n",
    "\\vartheta= & \\vartheta_{0}+\\frac{np}{2},\\\\\n",
    "\\rho= & \\rho_{0}+\\frac{1}{2}\\text{tr}\\left(DD^{T}-\\widehat{A}\\widehat{X}^{T}D^{T}-D\\widehat{X}\\widehat{A}^{T}\\right)+\\frac{1}{2}\\text{tr}\\left(\\widehat{A^{T}A}\\widehat{X^{T}X}\\right),\\\\\n",
    "\\Sigma_{X}=&\\left(\\widehat{\\omega}\\widehat{A^{T}A}+I_{r}\\right)^{-1},\\\\ \n",
    "\\mu_{X}=&\\widehat{\\omega}D^{T}\\widehat{A}\\Sigma_{X},\\\\\n",
    "\\Sigma_{A}=&\\left(\\widehat{\\omega}\\widehat{X^{T}X}+\\text{diag}(\\widehat{\\mathbf{v}})\\right)^{-1},\\\\\n",
    "\\mu_{A}=&\\widehat{\\omega}D\\widehat{X}\\Sigma_{A},\\\\\n",
    "\\alpha_{k}=&\\alpha_{0}+\\frac{p}{2},\\\\\n",
    "\\beta_{k}=&\\beta_{0}+\\frac{1}{2}\\left(\\widehat{A^{T}A}\\right)_{k,k},\n",
    "\\end{align}\n",
    "\n",
    "Pripomenme, ze moment gamma rozdeleni $G_\\omega(\\vartheta,\\rho)$ je\n",
    "$$\n",
    "\\widehat{\\omega} = \\frac{\\vartheta}{\\rho}\n",
    "$$\n",
    "a momenty maticoveho normalniho rozdeleni $N_B(\\mu_B,\\Sigma_p\\otimes \\Sigma_n)$ jsou\n",
    "\\begin{align}\n",
    "\\widehat{B} &= \\mu_B\\\\\n",
    "\\widehat{B^T B} &= \\mu_B^T \\mu_B + \\text{tr}(\\Sigma_p)\\Sigma_n.\n",
    "\\end{align}"
   ]
  },
  {
   "cell_type": "code",
   "execution_count": null,
   "metadata": {},
   "outputs": [],
   "source": [
    "r = 3 ### nastavime predpokladany pocet zdroju\n",
    "\n",
    "# apriorno\n",
    "theta0 = 1e-10\n",
    "rho0 = 1e-10\n",
    "alpha0 = 1e-10\n",
    "beta0 = 1e-10\n",
    "\n",
    "# nastavime nejake inicializacni hodnoty pro A a X\n",
    "hX = np.full((n,r),1)\n",
    "#hX = np.random.rand(n,r)\n",
    "hXtX = np.eye(r)\n",
    "homega = 1\n",
    "hv = np.ones(r)\n",
    "\n",
    "hist_hv = np.ones((500,r))\n",
    "\n",
    "for i in range(0,500):\n",
    "    \n",
    "    # spocitame tvarovaci parametry a momenty A\n",
    "\n",
    "    \n",
    "    # spocitame tvarovaci parametry a moment vektoru v\n",
    "\n",
    "    \n",
    "    # spocitame tvarovaci parametry a momenty X\n",
    "\n",
    "        \n",
    "    # spocitame tvarovaci parametry a moment omega\n",
    "\n",
    "    \n",
    "    ### kdo to ma: vytvorte graf s vyvojem hodnot vektoru v\n",
    "    \n",
    "    \n",
    "plt.figure()\n",
    "for i in range(1,r+1):\n",
    "    plt.subplot(2,r,i)\n",
    "    plt.imshow(hA[:,i-1].reshape(strana,strana),interpolation='none')\n",
    "    plt.title('zdroj %s'%i)\n",
    "    plt.subplot(2,r,r+i)\n",
    "    plt.plot(hX[:,i-1])\n"
   ]
  },
  {
   "cell_type": "code",
   "execution_count": null,
   "metadata": {},
   "outputs": [],
   "source": []
  }
 ],
 "metadata": {
  "kernelspec": {
   "display_name": "Python 3",
   "language": "python",
   "name": "python3"
  },
  "language_info": {
   "codemirror_mode": {
    "name": "ipython",
    "version": 3
   },
   "file_extension": ".py",
   "mimetype": "text/x-python",
   "name": "python",
   "nbconvert_exporter": "python",
   "pygments_lexer": "ipython3",
   "version": "3.5.2"
  }
 },
 "nbformat": 4,
 "nbformat_minor": 2
}
