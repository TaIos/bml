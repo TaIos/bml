{
 "cells": [
  {
   "cell_type": "code",
   "execution_count": null,
   "metadata": {},
   "outputs": [],
   "source": [
    "import numpy as np\n",
    "import matplotlib.pylab as plt\n",
    "np.set_printoptions(precision=2)\n",
    "import scipy.io as sio"
   ]
  },
  {
   "cell_type": "markdown",
   "metadata": {},
   "source": [
    "# Ukázka na dvou reálných případech"
   ]
  },
  {
   "attachments": {},
   "cell_type": "markdown",
   "metadata": {},
   "source": [
    "# ETEX\n",
    "K dispozici máte data z European Tracer EXperimentu, kdy byla vypouštěna po danou dobu a s danou intenzitou jistá látka, která byla následně měřena v rámci Evropy:\n",
    "![etex_auto.jpg](etex_auto.jpg)\n",
    "![etex_mapa.jpg](etex_mapa.jpg)"
   ]
  },
  {
   "cell_type": "markdown",
   "metadata": {},
   "source": [
    "## Data"
   ]
  },
  {
   "cell_type": "code",
   "execution_count": null,
   "metadata": {},
   "outputs": [],
   "source": [
    "X = sio.loadmat(\"data_ETEX.mat\")[\"X\"]\n",
    "y = sio.loadmat(\"data_ETEX.mat\")[\"y\"]\n",
    "beta_true = sio.loadmat(\"data_ETEX.mat\")[\"beta_true\"]\n",
    "    \n",
    "(p,n) = np.shape(X)\n",
    "\n",
    "#---------------------------------------------\n",
    "# vykreslete do grafu (jako jednotlive body) zavislost mereni y a teoreticky spravne rekonstrukce X*beta_true\n",
    "# co z toho muzete usoudit o kvalite predlozenych dat?\n",
    "#---------------------------------------------\n"
   ]
  },
  {
   "cell_type": "markdown",
   "metadata": {},
   "source": [
    "## Použití bayesian sparse regression"
   ]
  },
  {
   "cell_type": "code",
   "execution_count": null,
   "metadata": {},
   "outputs": [],
   "source": [
    "c0 = 1e-10\n",
    "d0 = 1e-10\n",
    "a0 = 1e-10\n",
    "b0 = 1e-10\n",
    "\n",
    "hat_v = np.ones(n)\n",
    "hat_omega = 1/np.ndarray.max(X)\n",
    "\n",
    "#---------------------------------------------\n",
    "# a) pouzijte bayesian sparse regression z prvni casti cviceni\n",
    "#\n",
    "# b) modifikujte vypocet tak, aby v \\beta byly jen kladne hodnoty\n",
    "#    (napr. vhodnym \"nulovanim\")\n",
    "#---------------------------------------------\n",
    "\n",
    "    \n",
    "beta_VBsparse = hat_beta\n",
    "    \n",
    "plt.plot(beta_true,color='red',linestyle='dashed')"
   ]
  },
  {
   "cell_type": "markdown",
   "metadata": {},
   "source": [
    "## Použití bayesian ridge regression (pro rychlejší)"
   ]
  },
  {
   "cell_type": "code",
   "execution_count": null,
   "metadata": {},
   "outputs": [],
   "source": [
    "c0 = 1e-10\n",
    "d0 = 1e-10\n",
    "hat_omega = 1/np.ndarray.max(X)\n",
    "\n",
    "#---------------------------------------------\n",
    "# zkuste na ta sama data pouzit bayesian ridge regression z prvni casti cviceni\n",
    "# proc neni vysledek idealni?\n",
    "#---------------------------------------------\n",
    "\n",
    "    \n",
    "beta_VB = hat_beta\n",
    "    \n",
    "plt.plot(beta_true,color='red',linestyle='dashed')"
   ]
  },
  {
   "attachments": {},
   "cell_type": "markdown",
   "metadata": {},
   "source": [
    "# Chernobylská data\n",
    "![chernobyl_obr.jpg](chernobyl_obr.jpg)\n",
    "Data pokrývají prvních 10 dní po výbuchu (26.4.1986) pro radionuklid Cs134."
   ]
  },
  {
   "cell_type": "code",
   "execution_count": null,
   "metadata": {},
   "outputs": [],
   "source": [
    "X = sio.loadmat(\"data_Chernobyl.mat\")[\"X\"]\n",
    "y = sio.loadmat(\"data_Chernobyl.mat\")[\"y\"]\n",
    "# beta_true neni...\n",
    "\n",
    "(p,n) = np.shape(X)\n",
    "    "
   ]
  },
  {
   "cell_type": "code",
   "execution_count": null,
   "metadata": {},
   "outputs": [],
   "source": [
    "c0 = 1e-10\n",
    "d0 = 1e-10\n",
    "hat_omega = 1/np.ndarray.max(X)\n",
    "\n",
    "#---------------------------------------------\n",
    "# a) zde bude lepsi pouzit bayesian ridge regression (data jsou zjednodusena a ridke reseni proto neni idealni)\n",
    "# b) pro rychlejsi: zkuste resit stejny problem pomoci klasicke ridge regression\n",
    "#---------------------------------------------\n",
    "\n",
    "for i in range(1,50):\n",
    "    \n",
    "    \n",
    "beta_VB = hat_beta\n",
    "    \n",
    "plt.plot(beta_VB*1e13)\n",
    "plt.ylabel('PBq')\n",
    "plt.xlabel('x 3h - cas uniku')"
   ]
  }
 ],
 "metadata": {
  "kernelspec": {
   "display_name": "Python 3",
   "language": "python",
   "name": "python3"
  },
  "language_info": {
   "codemirror_mode": {
    "name": "ipython",
    "version": 3
   },
   "file_extension": ".py",
   "mimetype": "text/x-python",
   "name": "python",
   "nbconvert_exporter": "python",
   "pygments_lexer": "ipython3",
   "version": "3.6.4rc1"
  }
 },
 "nbformat": 4,
 "nbformat_minor": 2
}
