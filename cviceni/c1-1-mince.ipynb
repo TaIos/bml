{
 "cells": [
  {
   "cell_type": "markdown",
   "metadata": {},
   "source": [
    "# Odhad pravděpodobnosti rubu u mince\n",
    "\n",
    "Označme:\n",
    "- $n \\in \\mathbb{N}_0$ počet hodů mincí\n",
    "- $X=k \\in \\{0,\\ldots, n\\}$ počet rubů\n",
    "- $\\pi \\in [0, 1]$ pravděpodobnost tohoto jevu\n",
    "\n",
    "Výsledky hodů mincí budeme popisovat binomickým modelem,\n",
    "$$\n",
    "X=k|\\pi, n \\sim \\text{binom}(n,\\pi) \\qquad\\text{s pravděpodobností} \\qquad\n",
    "f(X=k|\\pi, n) = \\binom{n}{k}\\pi^k (1-\\pi)^{n-k}.\n",
    "$$\n",
    "\n",
    "Apriorní distribuci pro odhad $\\pi$ zvolíme beta distribuci,\n",
    "$$\n",
    "\\pi \\sim \\beta(a_0, b_0) \\qquad \\text{s hustotou psti} \\qquad\n",
    "p(\\pi|a_0, b_0) = \\frac{1}{B(a_0, b_0)} \\pi^{a_0-1} (1-\\pi)^{b_0-1}. \n",
    "$$"
   ]
  },
  {
   "cell_type": "markdown",
   "metadata": {},
   "source": [
    "### Úkol 1 (teorie)\n",
    "Odvoďte pomocí Bayesovy věty aposteriorní distribuci, potažmo aposteriorní hyperparametry. Připomeňme, že vzorec je\n",
    "$$\n",
    "\\begin{aligned}\n",
    "p(\\pi|a_1, b_1) \n",
    "&\\propto p(\\pi|a_0, b_0, n, X=k) \\\\\n",
    "&\\propto f(X=k|\\pi, n) p(\\pi|a_0, b_0),\n",
    "\\end{aligned}\n",
    "$$\n",
    "a že můžeme ignorovat normalizační konstanty."
   ]
  },
  {
   "cell_type": "markdown",
   "metadata": {},
   "source": [
    "### Úkol 2 (kód)\n",
    "Je dáno $n, a_0, b_0$ a data $x$. Naprogramujte bayesovský update apriorna (tj. hyperparametrů $a_0, b_0$ na $a_1, b_1$)."
   ]
  },
  {
   "cell_type": "code",
   "execution_count": 1,
   "metadata": {},
   "outputs": [
    {
     "name": "stdout",
     "output_type": "stream",
     "text": [
      "Počet hodů: 10, počet rubů: X=5\n",
      "Apriorní rozdělení: beta(1.0, 1.0)\n",
      "Aposteriorní rozdělení: beta(6.0, 6.0)\n"
     ]
    }
   ],
   "source": [
    "import numpy as np\n",
    "from scipy.stats import beta, binom\n",
    "np.random.seed(123)\n",
    "pi = 0.4                             # Tuto veličinu budeme odhadovat, uvidíme, jak dobře\n",
    "\n",
    "n = 10                               ### počet hodů\n",
    "a0 = 1                               ### apriorní hyperparametr beta rozdělení\n",
    "b0 = 1                               ### apriorní hyperparametr beta rozdělení\n",
    "\n",
    "x = binom.rvs(n=n, p=pi)\n",
    "print('Počet hodů: {0}, počet rubů: X={1}'.format(n, x))\n",
    "print('Apriorní rozdělení: beta({0:.1f}, {1:.1f})'.format(a0, b0))\n",
    "\n",
    "#---------------------------------------------\n",
    "# Zde bude váš výpočet aposteriorna\n",
    "# Výsledkem budou hyperparametry a1, b1\n",
    "a1 = ***\n",
    "b1 = ***\n",
    "#---------------------------------------------\n",
    "\n",
    "print('Aposteriorní rozdělení: beta({0:.1f}, {1:.1f})'.format(a1, b1))"
   ]
  },
  {
   "cell_type": "markdown",
   "metadata": {},
   "source": [
    "## Odhad $\\pi$\n",
    "Z přednášky víme, že $\\beta(a, b)$ má střední hodnotu a rozptyl\n",
    "$$\n",
    "\\mathbb{E}[\\pi] = \\mathbb{E}[\\pi|a,b] = \\frac{a}{a+b},\n",
    "\\qquad\\text{a}\\qquad\n",
    "\\text{var}\\pi = \\frac{a b}{(a + b)^2(a+b+1)}.\n",
    "$$\n",
    "\n",
    "### Úkol 3 (kód)\n",
    "Naprogramujte bodový odhad $\\pi$ jako střední hodnotu aposteriorního beta rozdělení a související varianci tohoto odhadu."
   ]
  },
  {
   "cell_type": "code",
   "execution_count": 7,
   "metadata": {},
   "outputs": [
    {
     "name": "stdout",
     "output_type": "stream",
     "text": [
      "Aposteriorní odhad: E[pi] = nan, jeho variance je var(pi) = nan\n"
     ]
    }
   ],
   "source": [
    "#---------------------------------------------\n",
    "# Zde bude váš výpočet střední hodnoty a variance\n",
    "# Výsledkem budou proměnné e_pi a var_pi\n",
    "e_pi = ***\n",
    "var_pi = ***\n",
    "#---------------------------------------------\n",
    "\n",
    "print('Aposteriorní odhad: E[pi] = {0:.2f}, jeho variance je var(pi) = {1:.2f}'.format(e_pi, var_pi))"
   ]
  },
  {
   "cell_type": "markdown",
   "metadata": {},
   "source": [
    "### Úkol 4 (kód)\n",
    "\n",
    "V grafu níže najdete graf hustoty apriorní distribuce. Přidejte graf hustoty aposteriorní distribuce."
   ]
  },
  {
   "cell_type": "code",
   "execution_count": 11,
   "metadata": {},
   "outputs": [
    {
     "data": {
      "image/png": "[encoded data removed]",
      "text/plain": [
       "<matplotlib.figure.Figure at 0x7fb8b8f3cc18>"
      ]
     },
     "metadata": {},
     "output_type": "display_data"
    }
   ],
   "source": [
    "import matplotlib.pylab as plt\n",
    "\n",
    "x_vals = np.linspace(start=1e-5, stop=1, num=100)    # body na ose x\n",
    "y_vals_prior = beta.pdf(x_vals, a=a0, b=b0)          # hodnoty beta hustoty pro body na ose x\n",
    "plt.plot(x_vals, y_vals_prior, color='blue')\n",
    "plt.xlabel('pi')\n",
    "\n",
    "#---------------------------------------------\n",
    "# Zde bude váš kód\n",
    "# - vykreslete graf aposteriorni hustoty cervene\n",
    "# - doplnte popisek osy y (plt.ylabel)\n",
    "# - vlozte vertikalni caru ve stredni hodnote e_pi od 0 do krivky hustoty (plt.vlines)\n",
    "#---------------------------------------------\n",
    "\n",
    "plt.show()"
   ]
  },
  {
   "cell_type": "markdown",
   "metadata": {},
   "source": [
    "### Úkol 5 (kód)\n",
    "Zkuste si za domácí úkol vykreslit stejný obrázek (byl v přednášce) zobrazující sekvenční zpracování dat z několika experimentů. Můžete výhodně využít numpy array (np.array), jeho některé vlastnosti viz níže:\n",
    "![Update beta distribuce](../prednasky/img/l1-beta-mince.jpg)"
   ]
  },
  {
   "cell_type": "code",
   "execution_count": 27,
   "metadata": {},
   "outputs": [
    {
     "name": "stdout",
     "output_type": "stream",
     "text": [
      "Vektor: [1 2 3]\n",
      "Matice:\n",
      " [[1 2]\n",
      " [3 4]]\n",
      "Součet řádků: [3 7]\n",
      "Součet sloupců: [4 6]\n",
      "Součet: 6\n",
      "Průmer: 2.0\n",
      "Maximum: 3\n"
     ]
    }
   ],
   "source": [
    "# Demonstrace np.array\n",
    "x = np.array([1, 2, 3])\n",
    "print('Vektor: {0}'.format(x))\n",
    "\n",
    "y = np.array([[1, 2], [3, 4]])\n",
    "print('Matice:\\n {0}'.format(y))\n",
    "print('Součet řádků: {0}'.format(y.sum(axis=1)))\n",
    "print('Součet sloupců: {0}'.format(y.sum(axis=0)))\n",
    "\n",
    "# Pár metod třídy np.array - jdou i pro řádky/sloupce vícerozměrných polí np.array\n",
    "# Pro nápovědu zkuste shift-tab za otvírací závorkou\n",
    "print('Součet: {0}'.format(x.sum()))\n",
    "print('Průmer: {0}'.format(x.mean()))\n",
    "print('Maximum: {0}'.format(x.max()))\n",
    "\n",
    "# Nebo celá nápověda (odkomentujte)\n",
    "#?np.linalg.det"
   ]
  }
 ],
 "metadata": {
  "kernelspec": {
   "display_name": "Python 3",
   "language": "python",
   "name": "python3"
  },
  "language_info": {
   "codemirror_mode": {
    "name": "ipython",
    "version": 3
   },
   "file_extension": ".py",
   "mimetype": "text/x-python",
   "name": "python",
   "nbconvert_exporter": "python",
   "pygments_lexer": "ipython3",
   "version": "3.7.2+"
  }
 },
 "nbformat": 4,
 "nbformat_minor": 2
}
