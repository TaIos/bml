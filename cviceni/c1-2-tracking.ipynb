{
 "cells": [
  {
   "cell_type": "markdown",
   "metadata": {},
   "source": [
    "# Sledování výšky objektu\n",
    "\n",
    "V této úloze se budeme věnovat sledování výšky zrychleně stoupajícího objektu. Tato úloha byla teoreticky probrána na přednášce. Připomeňme, že pro pohyb s konstantním zrychlením $a$, počáteční rychlostí $v_0$ a výškou záchytu označenou jako počátek ($y_0 = 0$) platí\n",
    "\n",
    "$$\n",
    "    y_t = v_0 t + \\frac{1}{2} a t^2 + \\varepsilon_t, \\qquad \\text{iid}\\quad \\varepsilon_t \\sim \\mathcal{N}(0, \\sigma^2).\n",
    "$$\n",
    "\n",
    "Modelovat budeme sekvenčně, tj. půjdeme postupně po časových okamžicích $t=1, t=2, \\ldots$ a pokaždé provedeme bayesovský update apriorní distribuce aktuálním měřením výšky $y_t$ a aktuálním regresorem $x_t$. Odhadovat budeme tyto parametry:\n",
    "- $\\beta = [\\beta_1, \\beta_2]^\\intercal = [v_0, a]$ - regresní koeficienty,\n",
    "- $\\sigma^2$ - variance šumu měření.\n",
    "\n",
    "Jelikož uvažujeme šum normální, potom model je normální,\n",
    "\n",
    "$$\n",
    "y_t \\sim \\mathcal{N}(\\beta^\\intercal x_t, \\sigma^2).\n",
    "$$\n",
    "\n",
    "Použijeme konjugované *normální inverzní-gama* apriorní rozdělení, neboť aposteriorní distribuce bude analyticky dostupná."
   ]
  },
  {
   "cell_type": "code",
   "execution_count": null,
   "metadata": {},
   "outputs": [],
   "source": [
    "import sys\n",
    "sys.path.insert(0, '../zdrojaky')\n",
    "\n",
    "import numpy as np\n",
    "import matplotlib.pylab as plt\n",
    "from nig import NiG                        # třída s NiG apriornem\n",
    "np.set_printoptions(precision=2)"
   ]
  },
  {
   "cell_type": "markdown",
   "metadata": {},
   "source": [
    "Natáhneme data a **zjistíme jejich délku**."
   ]
  },
  {
   "cell_type": "code",
   "execution_count": null,
   "metadata": {},
   "outputs": [],
   "source": [
    "y = np.load('c1-tracking.npz')['y']\n",
    "\n",
    "#---------------------------------------------\n",
    "# Vložte do proměnné ndat délku y \n",
    "# bude označovat počet měření.\n",
    "ndat = y.shape[0]\n",
    "#---------------------------------------------\n",
    "print('Máme {0} měření'.format(ndat))"
   ]
  },
  {
   "cell_type": "markdown",
   "metadata": {},
   "source": [
    "Vykreslíme jak data vypadají - pro jednoduchost bez popisků."
   ]
  },
  {
   "cell_type": "code",
   "execution_count": null,
   "metadata": {},
   "outputs": [],
   "source": [
    "plt.plot(y)\n",
    "plt.show()"
   ]
  },
  {
   "cell_type": "markdown",
   "metadata": {},
   "source": [
    "Pustíme se do sekvenčního odhadu. Připomeňme znovu model, budeme jej potřebovat:\n",
    "\n",
    "$$\n",
    "y_t = v_0 t + \\frac{1}{2} a t^2 + \\varepsilon_t =\n",
    "\\underbrace{\n",
    "\\begin{bmatrix}\n",
    "v_0 \\\\\n",
    "a\n",
    "\\end{bmatrix}^\\intercal\n",
    "}_{\\beta^\\intercal}\n",
    "\\underbrace{\n",
    "\\begin{bmatrix}\n",
    "t \\\\\n",
    "t^2\n",
    "\\end{bmatrix}\n",
    "}_{x_t}\n",
    "+ \\varepsilon_t.\n",
    "$$"
   ]
  },
  {
   "cell_type": "code",
   "execution_count": null,
   "metadata": {},
   "outputs": [],
   "source": [
    "xi0 = np.diag([10000, .1, .1])   # Apriorní xí_0\n",
    "nu0 = 5.                         # Apriorní ní_0\n",
    "regmodel = NiG(xi0, nu0)         # instance normální inv. gamma apriorní distribuce\n",
    "\n",
    "for t in range(ndat):\n",
    "    yt = y[t]\n",
    "    ##############################################\n",
    "    # Do xt vložte místo *** správnou podobu regresoru x_t\n",
    "    # (nezapomeňte že v pythonu jde t od nuly\n",
    "    # ve fyzice t=1,2,...\n",
    "    xt = np.array([***, ***])\n",
    "    ##############################################\n",
    "    \n",
    "    regmodel.update(yt, xt)      # update apriorna novými měřeními\n",
    "    regmodel.log()               # logování hyperparametrů a odhadů"
   ]
  },
  {
   "cell_type": "markdown",
   "metadata": {},
   "source": [
    "Podíváme se na poslední aposteriorní odhady:"
   ]
  },
  {
   "cell_type": "code",
   "execution_count": null,
   "metadata": {},
   "outputs": [],
   "source": [
    "print('Finální odhad beta: ', regmodel.Ebeta)\n",
    "print('Finální odhad sigma2: ', regmodel.Esigma2)\n",
    "print('Var(beta): ', regmodel.var_beta)\n",
    "print('Var(sigma2): ', regmodel.var_sigma2)"
   ]
  },
  {
   "cell_type": "markdown",
   "metadata": {},
   "source": [
    "Vykreslíme grafy odhadů. **Zkuste upravit kód tak, aby byl vidět průběh odhadů v \"ustáleném* stavu.**"
   ]
  },
  {
   "cell_type": "code",
   "execution_count": null,
   "metadata": {},
   "outputs": [],
   "source": [
    "Ebeta_log = np.array(regmodel.Ebeta_log)\n",
    "std_beta_log = np.array(regmodel.var_beta_log)\n",
    "\n",
    "plt.figure(figsize=(15,5))\n",
    "plt.subplot(211)\n",
    "plt.plot(Ebeta_log[:, 0])\n",
    "plt.fill_between(np.arange(ndat),\n",
    "                 Ebeta_log[:, 0] + 3 * std_beta_log[:, 0],\n",
    "                 Ebeta_log[:, 0] - 3 * std_beta_log[:, 0],\n",
    "                 color='whitesmoke'\n",
    "                 )\n",
    "plt.ylim(-40, 40)\n",
    "\n",
    "plt.subplot(212)\n",
    "plt.plot(Ebeta_log[:, 1])\n",
    "plt.fill_between(np.arange(ndat),\n",
    "                 Ebeta_log[:, 1] + 3 * std_beta_log[:, 1],\n",
    "                 Ebeta_log[:, 1] - 3 * std_beta_log[:, 1],\n",
    "                 color='whitesmoke'\n",
    "                 )\n",
    "plt.ylim(-40, 40)\n",
    "plt.show()"
   ]
  },
  {
   "cell_type": "code",
   "execution_count": null,
   "metadata": {},
   "outputs": [],
   "source": [
    "std_sigma2_log = np.sqrt(np.array(regmodel.var_sigma2_log))\n",
    "\n",
    "plt.figure(figsize=(15, 3))\n",
    "plt.plot(regmodel.Esigma2_log)\n",
    "plt.fill_between(np.arange(ndat),\n",
    "                 np.array(regmodel.Esigma2_log) + 3. * std_sigma2_log,\n",
    "                 np.array(regmodel.Esigma2_log) - 3. * std_sigma2_log,\n",
    "                 color='whitesmoke'\n",
    "                 )\n",
    "plt.ylim(-2500, 2500)"
   ]
  }
 ],
 "metadata": {
  "kernelspec": {
   "display_name": "Python 3",
   "language": "python",
   "name": "python3"
  },
  "language_info": {
   "codemirror_mode": {
    "name": "ipython",
    "version": 3
   },
   "file_extension": ".py",
   "mimetype": "text/x-python",
   "name": "python",
   "nbconvert_exporter": "python",
   "pygments_lexer": "ipython3",
   "version": "3.6.4rc1"
  }
 },
 "nbformat": 4,
 "nbformat_minor": 2
}
