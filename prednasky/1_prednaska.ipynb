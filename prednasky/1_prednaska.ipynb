{
 "cells": [
  {
   "cell_type": "code",
   "execution_count": null,
   "metadata": {},
   "outputs": [],
   "source": [
    "import numpy as np\n",
    "import matplotlib.pylab as plt\n",
    "np.set_printoptions(precision=2)"
   ]
  },
  {
   "cell_type": "markdown",
   "metadata": {},
   "source": [
    "# Přednáška 1: Základy a specifika bayesovské teorie"
   ]
  },
  {
   "cell_type": "markdown",
   "metadata": {},
   "source": [
    "**Obsah přednášky**\n",
    "- Základy a specifika bayesovské teorie - neurčitost, vývoj znalosti, typy odhadů, metody.\n",
    "- Zavedení pojmů machine learning a bayesovství (zatím vágně)\n",
    "- Apriorní znalost a její kvantifikace distribucí\n",
    "- Aposteriorní znalost coby apriorno aktualizované daty (měřeními, pozorováními)\n",
    "- Teoretická možnost sekvenčního updatu apost -> apriorno -> aposteriorno -> apriorno…\n",
    "- Data popisuje model (připouštíme nepřesnost modelu)\n",
    "- Ten update dělá Bayesova věta - k tomu potřebujeme trochu matematiky\n",
    "  - distribuce psti, hustota psti (diskrétní a spojitý případ)\n",
    "  - jedno a vícerozměrné případy (hustoty, nezávislost na pořadí proměnných)\n",
    "  - marginalizace\n",
    "  - řetězové pravidlo\n",
    "  - Bayesova věta\n",
    "- rozhodovací stromy\n",
    "- Problémy s odvozením aposteriorna\n",
    "  - někdy to jde analyticky (příští přednáška)\n",
    "  - někdy se musí aproximovat (zmínka o VB, Monte Carlo, MCMC…)\n",
    "- Typy odhadů\n",
    "  - Bodové odhady - co zvolit? Střední hodnota, medián, modus…\n",
    "  - Intervalové odhady - credibility intervaly (highest probability region) vs. frekventistické odhady\n",
    "  - Konzistence odhadu (vágně)\n",
    "- Stručné srovnání s frekventismem\n",
    "  - rozdíl je ve filosofii, správné jsou oba přístupy\n"
   ]
  },
  {
   "cell_type": "markdown",
   "metadata": {},
   "source": [
    "## Příklady jako motivace"
   ]
  },
  {
   "cell_type": "markdown",
   "metadata": {},
   "source": [
    "### Mince\n",
    "\n",
    "*Házíme mincí a zajímá nás pravděpodobnost, že padne jedna nebo druhá strana (panna nebo orel, rub či líc). Je naše mince férová?*\n",
    "\n",
    "Označíme 0 jako líc a 1 jako rub. Pokud bychom postupovali klasicky, vezmeme minci, budeme s ní házet a výsledky zaznamenávat do tabulky (matice). Posléze můžeme vykreslit histogram (_plt.hist()_), který zde nahradíme z pragmatického důvodu trochu jiným typem grafu. Házení mincí za nás obstará funkce *np.random.randint()*, která náhodně (a rovnoměrně - ale to budeme dělat že nevíme :-)) vzorkuje celá čísla z daného intervalu."
   ]
  },
  {
   "cell_type": "code",
   "execution_count": 105,
   "metadata": {},
   "outputs": [
    {
     "name": "stdout",
     "output_type": "stream",
     "text": [
      "Rub: 3 (0.3)\n",
      "Líc: 7 (0.7)\n"
     ]
    },
    {
     "data": {
      "image/png": "[encoded data removed]",
      "text/plain": [
       "<matplotlib.figure.Figure at 0x7fb7a9bd3ac8>"
      ]
     },
     "metadata": {},
     "output_type": "display_data"
    }
   ],
   "source": [
    "nsamples = 10 ### (\"###\" budeme značit parametry s nimiž lze experimentovat a sledovat výsledky)\n",
    "results = np.random.randint(0, 2, size=nsamples)\n",
    "counts = np.array([results.sum(), nsamples - results.sum()])\n",
    "frequences = counts/nsamples\n",
    "print('Rub: {0} ({1:.2})'.format(counts[0], frequences[0]))\n",
    "print('Líc: {0} ({1:.2})'.format(counts[1], frequences[1]))\n",
    "plt.figure(figsize=(10, 3))\n",
    "plt.subplot(1,2,1)\n",
    "plt.stem(counts)\n",
    "plt.xticks([0, 1])\n",
    "plt.subplot(1,2,2)\n",
    "plt.stem(frequences)\n",
    "plt.xticks([0, 1])\n",
    "plt.show()"
   ]
  },
  {
   "cell_type": "markdown",
   "metadata": {},
   "source": [
    "Jelikož jsme si pragmaticky rub a líc označili jako 0 a 1, počet líců je roven součtu jedniček a počet rubů je zbytek do počtu hodů. Odtud proměnná _counts_.\n",
    "\n",
    "**_Úkoly_**\n",
    "- **zamyslete se, co tabulka a grafy přesně zobrazují**\n",
    "- **experimentujte s proměnnou *size***\n",
    "\n",
    "Níže bude mírně komplikovanější příklad, který dá odpovědi i na první úkol."
   ]
  },
  {
   "cell_type": "markdown",
   "metadata": {},
   "source": [
    "### Kostka\n",
    "*Uvažujme, že máme běžnou házecí kostku o 6 stranách. Naším cílem je zjistit, jaké jsou pravděpodobnosti jednotlivých stran. Je naše kostka férová?*\n",
    "\n",
    "Postup je úplně analogický, ale zdroják bude trochu komplikovanější - nemáme jen 0 a 1."
   ]
  },
  {
   "cell_type": "code",
   "execution_count": 107,
   "metadata": {},
   "outputs": [
    {
     "name": "stdout",
     "output_type": "stream",
     "text": [
      "[[ 1.   2.   3.   5.   6. ]\n",
      " [ 1.   1.   3.   4.   1. ]\n",
      " [ 0.1  0.1  0.3  0.4  0.1]]\n"
     ]
    },
    {
     "data": {
      "image/png": "[encoded data removed]",
      "text/plain": [
       "<matplotlib.figure.Figure at 0x7fb7a97be080>"
      ]
     },
     "metadata": {},
     "output_type": "display_data"
    }
   ],
   "source": [
    "nsamples = 10  ###\n",
    "results = np.random.randint(1, 7, size=nsamples)\n",
    "numbers, counts = np.unique(results, return_counts=True)\n",
    "frequences = counts/nsamples\n",
    "print(np.c_[numbers, counts, frequences].T)\n",
    "plt.figure(figsize=(10, 3))\n",
    "plt.subplot(1,2,1)\n",
    "plt.stem(numbers, counts)\n",
    "plt.subplot(1,2,2)\n",
    "plt.stem(numbers, frequences)\n",
    "plt.show()"
   ]
  },
  {
   "cell_type": "markdown",
   "metadata": {},
   "source": [
    "**_Úkoly_**\n",
    "- **zamyslete se, co tabulka a grafy přesně zobrazují**\n",
    "- **experimentujte s proměnnou *size***\n",
    "\n",
    "Odpovědi jsou jednoduché. Graf vlevo zobrazuje tzv. **absolutní četnosti** jednotlivých stran kostky. Graf vpravo potom **četnosti relativní**, neboli normované četnosti absolutní. Ty se sčítají do jedničky a odpovídají *pravděpodobnostem* jednotlivých stran. Čím vyrovnanější graf, tím férovější kostka. A protože *np.random.randint()* vzorkuje z rovnoměrného rozdělení, čím větší rozsah výběru (počet vzorků), tím vyrovnanější graf."
   ]
  },
  {
   "cell_type": "markdown",
   "metadata": {},
   "source": [
    "### Spotřeba vozidla\n",
    "\n",
    "*Měříme na zkušebně spotřebu vozidla při daných podmínkách a ptáme se, jaká je \"teoretická\" spotřeba.*\n",
    "\n",
    "Na takovou úlohu můžeme nahlížet jako na zjišťování hodnoty *spojité* veličiny prostřednictvím měření, jež jsou zatížena nepředvídatelnými chybami způsobenými nedokonalostí měřících podmínek nebo procesu. Celkem jednoduše bychom naměřili hromadu čísel a spočetli jejich průměr. A protože máme základy fyziky, zjistili bychom i směrodatnou odchylku (odmocninu rozptylu chyb měření)."
   ]
  },
  {
   "cell_type": "code",
   "execution_count": 114,
   "metadata": {},
   "outputs": [
    {
     "name": "stdout",
     "output_type": "stream",
     "text": [
      "Průměrná spotřeba: (5.8+-0.2)l/100km\n"
     ]
    }
   ],
   "source": [
    "spotreba = np.array([5.5, 5.4, 5.7, 5.6, 6.1, 5.9, 5.8, 6.0, 5.9]) ###\n",
    "prumer = spotreba.mean()\n",
    "std = spotreba.std()\n",
    "print('Průměrná spotřeba: ({0:.1f}+-{1:.1f})l/100km'.format(prumer, std))"
   ]
  },
  {
   "cell_type": "markdown",
   "metadata": {},
   "source": [
    "### To je všechno pěkné...jenže!\n",
    "\n",
    "Uvedené příklady demonstrovaly klasický _frekventistický_ přístup k problému - zjistili jsme frekvence výskytu daných jevů a ty prohlásili za výsledek. Má to ale pár háčků:\n",
    "- je ten výsledek jednoznačný?\n",
    "- když se měnil počet pokusů (množství dat), měnilo se něco?\n",
    "- a co když budu vědět, že např. moje mince měla při posledním zkoumání rozdělení pravděpodobností [0.6, 0.4]? Jak to zakomponovat?\n",
    "\n",
    "Jednou z možných variant, jak se s těmito problémy popasovat, je vydat se cestou bayesovské statistiky (pravděpodobnosti, zpracování dat...)"
   ]
  },
  {
   "cell_type": "markdown",
   "metadata": {},
   "source": [
    "# Bayesovská teorie - začínáme"
   ]
  },
  {
   "cell_type": "markdown",
   "metadata": {},
   "source": [
    "## Data popisuje model\n",
    "\n",
    "Pro popis dat (měření, pozorování) resp. jejich vlastností slouží *matematický model*. S prvními modely jsme se potkali už velmi záhy na základní škole, například v podobě vzorečku pro rychlost $v=s/t$ (fyzikální model). Stejně tak můžeme modelovat například hmotnost objektu na základě jejího opakovaného měření. V případě fyzikálního modelu víme, že jeho platnost není úplně stoprocentní, zvl. při vysokých rychlostech dochází k relativistickým jevům. Stejně tak hmotnost objektu nemusíme pokaždé naměřit stejně přesně. Proto používáme statistiku (zvl. bayesovskou nebo frekventistickou) a v ní modely v podobě pravděpodobnostních distribucí.\n",
    "\n",
    "### Mince\n",
    "Vhodným modelem pro minci je Bernoulliho (též alternativní) rozdělení. Označíme-li $X=1$ jev, že padl rub, $X=0$ že padl rub a $\\pi \\in [0, 1]$ pravděpodobnost rubu, pak toto rozdělení je dáno pravděpodobností (probability mass function, pmf)\n",
    "\n",
    "$$\n",
    "f(X|\\pi) = \\pi^{x} (1-\\pi)^{1-x}, \\qquad x\\in\\{0, 1\\},\n",
    "$$\n",
    "a píšeme, že $X\\sim\\mathcal{B}\\textit{ernoulli}(\\pi)$, někdy jen $X\\sim\\mathcal{B}\\textit{er}(\\pi)$ apod.\n",
    "\n",
    "Schválně si zkuste dosadit za $x$ a uvidíte, že dostanete příslušnou pravděpodobnost. Toto rozdělení má *střední (též očekávanou) hodnotu* $\\mathbb{E}[X] = \\pi$, což je snadné dokázat, neboť v diskrétním případě\n",
    "$$\n",
    "\\mathbb{E}[X] = \\sum_i x_i f(x_i).\n",
    "$$\n",
    "(Všimněte si poněkud nekonzistentního zápisu - cílem je jednoduchost, předpokládá se elementární inteligence čtenáře.)\n",
    "\n",
    "**V distribuci známe vše kromě $\\pi$. Vhodný odhad jeho hodnoty je cílem našeho modelování.**\n",
    "\n",
    "Budeme ještě chvilku pokračovat - mincí můžeme hodit nejen jednou, ale třeba $n$-krát s tím, že rub padne právě $k$-krát kde $k\\leq n$. Hody jsou nezávislé, odpovídají $n$ Bernouliovským pokusům a můžeme je popsat jednoduše *binomickým rozdělením* náhodné veličiny $Y \\sim \\textit{binom}(n, \\pi)$ s pravděpodobností danou\n",
    "\n",
    "$$\n",
    "f(Y=k|n, \\pi) = \\binom{n}{k}\\pi^k (1-\\pi)^{n-k}, \\qquad \\text{se střední hodnotou}\\quad \\mathbb{E}[Y] = n\\pi.\n",
    "$$\n",
    "\n",
    "Následuje kód, který vykreslí binomické rozdělení pro nastavená $n$ a $p$. Mějme na paměti, že uvažujeme $Y=k$, tedy počet rubů, a tedy $k\\in\\{0, 1, \\ldots, n\\}$."
   ]
  },
  {
   "cell_type": "code",
   "execution_count": 115,
   "metadata": {},
   "outputs": [
    {
     "data": {
      "image/png": "[encoded data removed]",
      "text/plain": [
       "<matplotlib.figure.Figure at 0x7fb7a97bed30>"
      ]
     },
     "metadata": {},
     "output_type": "display_data"
    }
   ],
   "source": [
    "from scipy.stats import binom\n",
    "n = 10                               ###\n",
    "p = .5                               ###\n",
    "ks = np.arange(0, n+1)\n",
    "probs = binom.pmf(n=n, p=p, k=ks)\n",
    "plt.stem(ks, probs)\n",
    "plt.xticks(ks)\n",
    "plt.xlabel('Y')\n",
    "plt.ylabel('f(Y)')\n",
    "plt.show()"
   ]
  },
  {
   "cell_type": "markdown",
   "metadata": {},
   "source": [
    "**Úkoly**\n",
    "- upravte předchozí kód tak, aby vykreslovat Bernoulliho rozdělení\n",
    "- zamyslete se, proč může být střední hodnota neceločíselná."
   ]
  },
  {
   "cell_type": "markdown",
   "metadata": {},
   "source": [
    "### Kostka\n",
    "\n",
    "Zatímco u mince mohou v jednom hodu nastat dva případy pro rub a líc (Bernoulliho rozdělení), u kostky jich je šest. Potřebujeme tedy něco na způsob \"většího\" binomického rozdělení, a tím je rozdělení *multinomické*. Označme tedy $x=[x_1,\\ldots, x_k]$ vektor kde každé $x_i$ udává počet, kolikrát padnula $i$-tá strana kostky. Pro $k$ stran kostky budeme mít $k$ pravděpodobností (jaký bude jejich součet?), které můžeme rovněž shrnout do vektoru $\\pi=[\\pi_1,\\ldots,\\pi_k]$. Pokusů bude podobně jako v Bernoulliho případě $n\\in\\mathbb{N}_0$. Multinomické rozdělení $\\mathcal{M}\\textit{ulti}(n, \\pi)$ má předpis\n",
    "$$\n",
    "f(X) = \\frac{n!}{x_1! \\cdots x_k!} \\pi_1^{x_1} \\cdots \\pi_k^{x_k} \\qquad\\text{se střední hodnotou}\\quad \\mathbb{E}[X_i] = n\\pi_i, \\quad i\\in\\{1,\\ldots,n\\}.\n",
    "$$\n",
    "\n",
    "Tak, jako u binomického máme speciální případ $n=1$ nazývaný Bernoulliho (alternativní) rozdělení, zde tento případ nazýváme *kategorické* rozdělení, $\\mathcal{C}\\it{at}(\\pi)$.\n",
    "\n",
    "**Úkoly** (tentokrát ještě před příkladem)\n",
    "- jaký musí být součet prvků vektoru $\\pi$?\n",
    "- chceme-li počítat pmf (viz níže) pro $n$ pokusů (hodů), jaký musí být součet prvků vektoru $x$?\n",
    "- uvažujme $n = 1$, tedy jeden hod. Jaké budou hodnoty na grafu pmf?\n",
    "- kolik bude různých kombinací výsledků hodu kostkou pro $n=2$ a pro $n=4$? To nám zároveň odpoví na otázku, zda jde rozumně vykreslovat pmf.\n",
    "\n",
    "Zkusíme si vykreslit pmf pro $n = 1$, čimž si ověříme odpověď na jeden z úkolů."
   ]
  },
  {
   "cell_type": "code",
   "execution_count": 116,
   "metadata": {},
   "outputs": [
    {
     "data": {
      "image/png": "[encoded data removed]",
      "text/plain": [
       "<matplotlib.figure.Figure at 0x7fb7ac6ebd30>"
      ]
     },
     "metadata": {},
     "output_type": "display_data"
    }
   ],
   "source": [
    "from scipy.stats import multinomial\n",
    "n = 1                                        ###\n",
    "pi = np.array([.2, .3, .2, .1, .1, .1])      ###\n",
    "eye = np.eye(pi.size)                        ###\n",
    "xis = np.arange(1, pi.size+1)\n",
    "probs = multinomial.pmf(x=eye, n=n, p=pi)\n",
    "plt.stem(xis, probs)\n",
    "plt.xticks(xis)\n",
    "plt.xlabel('X')\n",
    "plt.ylabel('f(X)')\n",
    "plt.title(\"Hodnoty pmf pro n=1: {0}\".format(pmf))\n",
    "plt.show()"
   ]
  },
  {
   "cell_type": "markdown",
   "metadata": {},
   "source": [
    "Proměnná *eye* je jednotková matice. $k$-tý řádek tak říká, že padla právě $k$-tá strana kostky. Pro $n = 1$ - tedy jeden hod - jednoduché, že? Pro více hodů už nikoliv, viz další příklad, kde vykreslíme hodnoty pmf pro několik (*n_samples)* náhodně vybraných kombinací $n$ hodů."
   ]
  },
  {
   "cell_type": "code",
   "execution_count": 117,
   "metadata": {},
   "outputs": [
    {
     "data": {
      "image/png": "[encoded data removed]",
      "text/plain": [
       "<matplotlib.figure.Figure at 0x7fb7a9967940>"
      ]
     },
     "metadata": {},
     "output_type": "display_data"
    }
   ],
   "source": [
    "n = 5                                     ###\n",
    "n_samples = 10                            ###\n",
    "pi = np.array([.2, .05, .15, .1, .4, .1]) ###\n",
    "xis = np.arange(1, pi.size+1)\n",
    "rnd_samples = multinomial.rvs(n=n, p=pi, size=n_samples)\n",
    "probs = multinomial.pmf(x=rnd_samples, n=n, p=pi)\n",
    "plt.stem(probs)\n",
    "plt.xticks(range(n_samples), [str(l) for l in rnd_samples.tolist()], rotation=90)\n",
    "plt.xlabel('X - počty jednotlivých stran kostky')\n",
    "plt.ylabel('f(X) - pravděpodobnost daného jevu')\n",
    "plt.title(\"Hodnoty pmf pro n={0} hodů a náhodně vybrané kombinace\".format(n))\n",
    "plt.show()"
   ]
  },
  {
   "cell_type": "markdown",
   "metadata": {},
   "source": [
    "### Spotřeba vozidla\n",
    "\n",
    "Celkem logicky bychom předpokládali, že \"průměrná\" chyba je nulová (tj. nejde o chybu *systematickou*) a je symetricky rozložena vpravo i vlevo od nuly. Označme tedy hodnotu neznámé a odhadované teoretické spotřeby $\\mu$. Naše nepřesná měření s oblibou popisujeme jako *normálně* rozdělenou náhodnou veličinu $X\\sim\\mathcal{N}(\\mu, \\sigma^2)$ s *hustotou pravděpodobnosti*\n",
    "$$\n",
    "f(x) = \\frac{1}{\\sqrt{2\\pi\\sigma^2}} e^{\\frac{-1}{2\\sigma^2}(x-\\mu)^2},\n",
    "$$\n",
    "kde $x\\in\\mathbb{R}$, $\\sigma^2>0$ je rozptyl a $\\mu\\in\\mathbb{R}$ je střední hodnota normálního rozdělení. Pro střední hodnotu platí $\\mathbb{E}[X]=\\mu$.\n",
    "\n",
    "Pokud se tedy rozhodneme modelovat spotřebu vozidla jako normálně rozdělenou veličinu, např. se střední hodnotou $\\mu=5.5$ a směrodatnou odchylkou $\\sigma=0.3$ - tedy rozptylem $\\sigma^2=0.09$, bude graf hustoty pravděpodobnosti vypadat následovně:"
   ]
  },
  {
   "cell_type": "code",
   "execution_count": 121,
   "metadata": {},
   "outputs": [
    {
     "data": {
      "image/png": "[encoded data removed]",
      "text/plain": [
       "<matplotlib.figure.Figure at 0x7fb7ac84ff60>"
      ]
     },
     "metadata": {},
     "output_type": "display_data"
    }
   ],
   "source": [
    "from scipy.stats import norm\n",
    "mu = 5.5                   ###\n",
    "std = 0.9                  ### pozor, zadava se smerodatna odchylka!\n",
    "x = np.linspace(0, 10, 100)\n",
    "fx = norm.pdf(x, loc=mu, scale=std)\n",
    "plt.plot(x, fx)\n",
    "plt.xlabel('x')\n",
    "plt.ylabel('f(x)')\n",
    "plt.show()"
   ]
  },
  {
   "cell_type": "markdown",
   "metadata": {},
   "source": [
    "Ač se to podle předpisu hustoty normálního rozdělení může zdát divné, výhodou rozdělení jsou poměrně snadné výpočty, často analyticky řešitelné. Na druhou stranu, toto rozdělení je - stejně jako většina jiných - v nejlepším případě slušnou aproximací reality. Používá se na popis rozdělení inteligenčního kvocientu, chyb měření ve fyzikálních experimentech, v hydrologii, radarech, často jako aproximace jiných, výpočtně náročnějších rozdělení.\n",
    "\n",
    "**Úkoly:**\n",
    "- IQ rozdělení se uvažuje centrované na hodnotě $\\mu=100$ se směrodatnou odchylkou $\\sigma=15$. Je poměrně jednoduché určit, že např. v intervalu $[\\mu-\\sigma, \\mu+\\sigma]$ leží 68.2% populace atd. Normální rozdělení má nosič (support, část definičního oboru kde je hustota nenulová) celou reálnou osu. Vyplývá z toho něco postrádajícího smysl?\n",
    "- připomeňte si z teorie pravděpodobnosti (statistiky), zda hodnota hustoty pravděpodobnosti v libovolném bodě definičního oboru udává *pravděpodobnost* dané hodnoty či nikoliv.\n",
    "- Součet všech hodnot pravděpodobnostní funkce diskrétní veličiny je jedna. Existuje nějaký ekvivalent pro hustotu pravděpodobnosti?\n",
    "- Může hustota pravděpodobnosti nabývat hodnoty vyšší než jedna? Může pravděpodobnostní funkce nabývat hodnoty vyšší než jedna?"
   ]
  },
  {
   "cell_type": "markdown",
   "metadata": {},
   "source": [
    "## Apriorní znalost\n",
    "\n",
    "**Apriorní znalost je počáteční znalost o studované proměnné před zohledněním dat (pozorování, měření...).**\n",
    "\n",
    "**Příklad s mincí:** Označme Y stranu mince (např. panna) a kvantifikujme pravděpodobnost, že padne, tedy p(X). Můžeme například vycházet tvrdit, že o takové pravděpodobnosti nevíme vůbec nic, kromě toho, že je od 0 do 1 - případ (A). Alternativně můžeme předpokládat, že je pravděpodobně koncentrována kolem hodnoty 0.5 - případ (B1) a (B2). Za povšimnutí stojí, že i první případ má střední hodnotu 0.5, ale ta je stejně pravděpodobná, jako všechny ostatní, zatímco u (B1) a (B2) jsou hodnoty více a ještě více koncentrovány. A nebo můžeme předpokládat, že mince není úplně férová a čekáme, že panna padá častěji - případ (C). Mohli bychom najít spoustu jiných případů, např. degenerovanou variantu od (B1) resp. (B2) - Diracovu distribuci shrnující celou pravděpodobnost do jediného bodu.\n",
    "![Apriorna u mince](img/l1-prior-mince.jpg)\n",
    "Pozn.: ano, opravdu kvantifikujeme pravděpodobnost pravděpodobnosti :-) Používáme k tomu oblíbenou [beta distribuci](https://en.wikipedia.org/wiki/Beta_distribution) (bohužel zde si autor spletl encyklopedii s knihou).\n",
    "\n",
    "\n",
    "**Příklad s kostkou, na první pokus:** Máme-li kvantifikovat náš odhad rozdělení pravděpodobností jednotlivých stran kostky, aniž bychom s ní jedinkrát hodili, s největší pravděpodobností budeme předpokládat, že je rovnoměrné, tj. každá strana je stejně pravděpodobná. To je varianta (A), tzv. férová kostka. Pokud ale hrajeme s nějakým koumákem a ten má kostku vlastní, můžeme dopředu přepokládat, že ta nebude zrovna férová, ale šestka bude výrazně pravděpodobnější - varianta (B). A do třetice můžeme jednotlivým stranám přidělit pravděpodobnosti nějak náhodně - varianta (C).\n",
    "![Apriorna u kostky](img/l1-prior-kostka.jpg)\n",
    "\n",
    "**Příklad s kostkou, na druhý pokus:** Povšimněme si jedné důležité věci - náš první pokus vůbec neříká, jak moc velká *neurčitost* je v těch pravděpodobnostech schována! Přitom u mince je *neurčitost* v apriornu obsažena! Jedna z možných (a současně nejobvyklejší) cesta je vyjádřit každou stranu zvlášť - podobně jako u mince - pravděpodobnost že padne a že nepadne. Kdybychom to shrnuli jednou funkcí, půjde o vyboulenou plochu v šestirozměrném prostoru, kterou bohužel nedokážeme nakreslit, a každý bod na této ploše odpovídá vektoru pravděpodobností se součtem 1. A odpovídající distribuce se jmenuje [Dirichletova](https://en.wikipedia.org/wiki/Dirichlet_distribution).\n",
    "\n",
    "**Jak je zřejmé, apriorní znalost vyjadřujeme tzv. _apriorní distribucí_, kterou je buď pravděpodobnost (v diskrétním případě), nebo hustota pravděpodobnosti (ve spojitém případě). Měli-li bychom znalosti teorie míry, mohli bychom mluvit o hustotě psti v obou případech :-)**\n",
    "\n",
    "**_Apriorní_ znalost (distribuce) přejde zahrnutím nových informací v _aposteriorní_. Obě kvantifikují míru _neurčitosti_ v naší znalosti o odhadovaném parametru.**"
   ]
  },
  {
   "cell_type": "markdown",
   "metadata": {},
   "source": [
    "## Malá vzpomínka na teorii pravděpodobnosti\n",
    "\n",
    "1. Hustota pravděpodobnosti nebo pravděpodobnostní funkce pro spojitou nebo diskrétní veličinu nám - velmi velmi vágně řečeno - udává, jak je pravděpodobnost realizace jednotlivých hodnot rozdělena. Slušná [definice](...) vyžaduje znalost teorie míry.\n",
    "2. Je-li $f(x)$ hustota psti, pak $\\int_X f(x)dx = 1$, kde integrujeme přes celý obor $X$. Analogicky, v diskrétním případě nahrazujeme hustotu pravděpodobnostní a integrál sumou a dostaneme opět 1. Kdybychom znali teorii míry, vystačíme si s integrálem.\n",
    "3. Střední hodnotou náhodné veličiny $X$ nazýváme $\\mathbb{E}[X] = \\int x f(x) dx$ resp. $\\mathbb{E}[X]= \\sum_i x_i p_i$ kde $x_i$ jsou realizace a $p_i$ jejich pravděpodobnosti.\n",
    "4. Rozptylem náhodné veličiny $X$ nazýváme $D[X] = \\text{var} X = \\int (x - \\mathbb{E}[X])^2 f(x) dx$ resp. $D[X] = \\text{var} X = \\sum_i (x - \\mathbb{E}[X])^2 p_i$. Ze vzorečku vidíme, že rozptyl udává míru disperze veličiny okolo střední hodnoty.\n",
    "5. Střední hodnota ani rozptyl nemusejí existovat. Nenechte se zmást tím, že střední hodnotu bychom čekali uprostřed distribuce, např. u Cauchyho distribuce v obrázku níže. Jde o existenci integrálu.\n",
    "6. Zajímat nás může rovněž modus (nejčetnější hodnota) a medián (prostřední hodnota). U některých rozdělení leží střední hodnota, modus i medián v jednom bodě (normální rozdělení), popř. modus a medián v jednom bodě (Cauchyho rozdělení), a nebo se jejich polohy mohou úplně lišit (gama rozdělení).\n",
    "  ![Distribuce](img/l1-distribuce.jpg)\n",
    "7. Vícerozměrné distribuce, např. pro veličiny $X$ a $Y$ mají vícerozměrné hustoty nebo pravděpodobnosti  $f(x, y) = f(y, x)$ (na pořadí nezáleží). Rozlišujeme dále hustoty (nebo pravděpodobnosti) **marginální** $f(x)$ a $f(y)$ a **podmíněné** $f(x|y)$ a $f(y|x)$ (příklad bude níže). Důležité budou operace:\n",
    "  - **Marginalizace:** $f(x) = \\int f(x, y) dy$, analogicky se sumou pro diskrétní veličiny.\n",
    "  - **Řetězové pravidlo:** $f(x, y) = f(x|y)f(y) = f(y|x) f(x)$.\n",
    "  \n",
    "### Příklad - dvourozměrné normální rozdělení\n",
    "Uvažujme dvojrozměrný náhodný vektor $X = [X_1, X_2] \\sim \\mathcal{N}(\\mu, \\Sigma)$, kde $\\mu = [\\mu_1, \\mu_2]$ je **vektor středních hodnot** a $\\Sigma \\in \\mathbb{R}^{2\\times 2}$ je symetrická pozitivně definitní **kovarianční matice**. Hustota pravděpodobnosti má předpis\n",
    "$$\n",
    "f(x) = \\frac{1}{\\sqrt{(2\\pi)^{2}|\\Sigma|}} \\exp \\left(-\\frac{1}{2} (x-\\mu)^\\intercal \\Sigma^{-1} (x-\\mu) \\right),\n",
    "$$\n",
    "\n",
    "kde $|\\Sigma|$ je determinant kovarianční matice. Pro obecný případ $X\\in\\mathbb{R}^{k}$ má kovarianční matice rozměr $k \\times k$ a v odmocnině je $(2\\pi)^k$ namísto kvadrátu.\n",
    "\n",
    "Následující obrázky ukazují prostorový graf a kontury hustoty pravděpodobnosti pro dvourozměrná normální rozdělení centrovaná v nule a s kovariancemi uvedenými nad horními grafy. Je zřejmé, že diagonální prvky udávají rozptyl pro danou složku vektoru a mimodiagonální udávají vzájemnou korelaci (natočení).\n",
    "![Graf hustoty](img/l1-2dgauss-surface.jpg)\n",
    "![Kontury hustoty](img/l1-2dgauss-contour.jpg)"
   ]
  },
  {
   "cell_type": "markdown",
   "metadata": {},
   "source": [
    "### Příklad na marginální a podmíněné psti\n",
    "Uvažujeme strojové rozpoznávání textu v závislosti na světelných podmínkách. To můžeme popsat podmíněnou pravděpodobností $P(R|S)$, kde R zastupuje \"rozpoznání\" a S \"světelné podmínky\". To je vlastně **model** pro R v závislosti na S. Zapišme pomocí tabulky:\n",
    "\n",
    "R\\S| Dobré | Přijatelné | Špatné |\n",
    "--- | :---: | :---: | :---:\n",
    "Rozpoznáno | 0.99 | 0.6 | 0.3 |\n",
    "Nerozpoznáno | 0.01 | 0.4 | 0.7 |\n",
    "\n",
    "Uvažujme dále, že pravděpodobnost světelných podmínek $P(S)$ - tedy marginální pst - je rozdělena takto:\n",
    "\n",
    "S | Dobré | Přijatelné | Špatné |\n",
    "--- | :---: | :---: | :---: |\n",
    "$P(S)$ | 0.6 | 0.3 | 0.1 |\n",
    "\n",
    "Potom pro sdružené pravděpodobnosti dostaneme:\n",
    "\n",
    "R \\ S | Dobré | Přijatelné | Špatné | $P(R)$\n",
    "--- | :---: | :---: | :---: | :---:\n",
    "Rozpoznáno | 0.594 | 0.18 | 0.03 | 0.804\n",
    "Nerozpoznáno | 0.006 | 0.12 | 0.07 | 0.196\n",
    "$P(S)$ | 0.6 | 0.3 | 0.1 | 1\n",
    "\n",
    "Marginály jsme získali prostým vysčítáním v řádcích resp. sloupcích. Analogicky to funguje u spojitých veličin, akorát sumu nahradí integrál."
   ]
  },
  {
   "cell_type": "markdown",
   "metadata": {},
   "source": [
    "## Bayesova věta\n",
    "$$\n",
    "p(\\theta|x) = \\frac{f(x|\\theta) p(\\theta)}{f(x)}, \\qquad f(x) > 0,\n",
    "$$\n",
    "kde $x$ a $\\theta$ jsou (náhodné) veličiny a\n",
    "- $p(\\theta|x)$ je **aposteriorní** podmíněná pravděpodobnost (rozdělení psti) $X$\n",
    "- $p(\\theta)$ je **apriorní** pravděpodobnost (rozdělení psti)\n",
    "- $f(x|\\theta)$ je model nebo též věrohodnost (likelihood) dat,\n",
    "- $f(x)$ je marginální pravděpodobnost $x$, též normovací faktor nebo anglicky `evidence'.\n",
    "\n",
    "Jelikož jmenovatel je jen normalizační faktor nezávislý na odhadovaném $\\theta$ a dostaneme jej jednoduše vysčítáním nebo integrací čitatele, $f(x) = \\int f(x|\\theta) p(\\theta) d\\theta$, zapisujeme často jen **proporcionalitu**\n",
    "$$\n",
    "p(\\theta|x) \\propto f(x|\\theta) p(\\theta).\n",
    "$$"
   ]
  },
  {
   "cell_type": "markdown",
   "metadata": {},
   "source": [
    "### Příklad\n",
    "Zdroj: [Gelman et al.: Bayesian Data Analysis](https://www.amazon.com/Bayesian-Analysis-Chapman-Statistical-Science/dp/1439840954/)\n",
    "\n",
    "[Hemofilie](https://cs.wikipedia.org/wiki/Hemofilie) (porucha srážlivosti krve) je dědičné onemocnění vázané na vadu alely chromozomu X. \n",
    "- Muži mají chromozomy XY, onemocnění propuká, je-li postižen příslušný chromozom X.\n",
    "- Ženy mají chromozomy XX, onemocnění propuká a je fatální, pokud jsou současně pozitivní oba chromozomy.\n",
    "\n",
    "**Případ: Žena, jejíž bratr je hemofilik, otec nikoliv. Je nosičem vadného chromozomu?**\n",
    "\n",
    "**Řešení:**\n",
    "- zdrojem vadného chromozomu by mohla být matka.\n",
    "- **apriorní pravděpodobnost** stanovme rovnoměrnou: $Pr(\\theta = 1) = Pr(\\theta = 0) = \\frac{1}{2}$.\n",
    "- **model** na základě vyšetření dvou synů $y_1, y_2$ uvažované ženy: $Pr(y_1, y_2|\\theta)$\n",
    "- můžeme postupovat graficky pomocí **rozhodovacího stromu**:\n",
    "![Rozhodovací strom](img/l1-strom.jpg)\n",
    "- aposteriorní pst že žena je nosičem vadného genu:\n",
    "$$\n",
    "Pr(\\theta=1|y_1, y_2) = \\frac\n",
    "{Pr(y_1, y_2|\\theta=1) Pr(\\theta=1)}\n",
    "{Pr(y_1, y_2|\\theta=1) Pr(\\theta=1) + Pr(y_1, y_2|\\theta=0)Pr(\\theta=0)}\n",
    "= \\frac\n",
    "{\\left(\\frac{1}{2}\\cdot \\frac{1}{2}\\right) \\cdot \\left( \\frac{1}{2} \\right)}\n",
    "{\\left(\\frac{1}{2}\\cdot \\frac{1}{2}\\right) \\cdot \\left( \\frac{1}{2} \\right) + (1 \\cdot 1)\\cdot\\left(\\frac{1}{2}\\right)}\n",
    "= \\frac{1}{5}.\n",
    "$$\n",
    "\n",
    "- Sekvenční analýza: uvažujme třetího syna s negativní diagnozou $y_3 = 0$ a aktualizujme pravděpodobnosti. Použijeme výsledek z předchozích výpočtů a Bayesovu větu:\n",
    "$$\n",
    "Pr(\\theta=1|y_1, y_2, y_3) \\propto Pr(y_3|\\theta, y_1, y_2) Pr(\\theta|y_1, y_2)\n",
    "= \\frac\n",
    "{\\left( \\frac{1}{2}\\right) \\cdot \\left(\\frac{1}{5}\\right)}\n",
    "{\\left( \\frac{1}{2}\\right) \\cdot \\left(\\frac{1}{5}\\right) + (1) \\cdot \\left( \\frac{4}{5} \\right) }\n",
    "= \\frac{1}{9}.\n",
    "$$\n",
    "\n",
    "Vidíme, že s novými daty se naše informace zpřesňuje. Navíc nemusíme přepočítávat přes všechna data, neboť ta již máme v aposteriorní pravděpodobnosti z prvních dvou, a tu můžeme využít jako apriorno pro nový odhad."
   ]
  },
  {
   "cell_type": "markdown",
   "metadata": {},
   "source": [
    "### Příklad s mincí naposledy :-)\n",
    "\n",
    "Vraťme se k příkladu s mincí a odhadováním pravděpodobnosti $\\pi$, že padne rub, tedy jevu $X=1$. Z [přednášky](#link-mince) už víme, že $X$ můžeme popsat Bernoulliho (1 hod) nebo ještě lépe binomickým rozdělením popisujícím počet rubů v $n$ hodech. Máme tedy $X \\sim binom(n, \\pi)$ a tedy\n",
    "$$\n",
    "f(X=k|\\pi, n) = \\binom{n}{k}\\pi^k (1-\\pi)^{n-k}.\n",
    "$$\n",
    "\n",
    "Jak jsme již rovněž zmínili, vhodná apriorní distribuce pro pravděpodobnost $\\pi\\in[0, 1]$ může být beta distribuce s dvěma reálnými kladnými parametry, $\\pi\\sim\\beta(a, b)$. Ta má hustotu pravděpodobnosti a střední hodnotu\n",
    "$$\n",
    "p(\\pi|a, b) = \\frac{1}{B(a, b)} \\pi^{a-1} (1-\\pi)^{b-1} \n",
    "\\qquad\\text{a}\\quad\n",
    "\\mathbb{E}[\\pi] = \\mathbb{E}[\\pi|a,b] = \\frac{a}{a+b},\n",
    "\\qquad \\text{a kde}\\qquad \n",
    "B(a, b) = \\frac{\\Gamma(a)\\Gamma(b)}{\\Gamma(a+b)}\n",
    "$$\n",
    "\n",
    "je [beta](https://en.wikipedia.org/wiki/Beta_function) funkce (to je speciální funkce, stejně jako v ní obsažené [gama](https://en.wikipedia.org/wiki/Gamma_function) funkce). K tomu ještě později.\n",
    "\n",
    "Pomocí Bayesovy věty odvoďme aposteriorní distribuci:\n",
    "$$\n",
    "\\begin{aligned}\n",
    "p(\\pi|a_1, b_1) &= p(\\pi|a_0, b_0, x, n) \\\\\n",
    "&\\propto f(x|\\pi, n) \\cdot p(\\pi|a, b) \\\\\n",
    "&\\propto \\pi^k (1-\\pi)^{n-k} \\cdot \\pi^{a-1} (1-\\pi)^{b-1} \\\\\n",
    "&\\propto \\pi^{a-1+k} (1-\\pi)^{b-1+n-k} \\\\\n",
    "&\\propto \\pi^{a_1-1} (1-\\pi)^{b_1-1},\n",
    "\\end{aligned}\n",
    "$$\n",
    "\n",
    "kde $a_1 = a+k$ a $b_1 = b+n-k$. Z toho plyne, že aposteriorní distribuce je rovněž beta distribuce, tentokrát s parametry $a_1$ a $b_1$, přičemž v prvním je obsažen počet rubů a v druhém počet líců! Shrňme si pár poznatků:\n",
    "- Vůbec jsme neoperovali s binomickým členem binomického rozdělení, ani s beta funkcí beta rozdělení. To jsou ony normalizační konstanty, které často (naštěstí) nemusíme řešit.\n",
    "- Výpočet aposteriorní hustoty jsme zvládli snadno analyticky! To jde pro určitou třídu distribucí - tzv. **konjugovaných apriorních distribucí** vždy. Ovšem konjugovanost je v praxi spíše výjimkou. Často musíme sáhnout k aproximačním metodám typu Monte Carlo nebo variačním metodám.\n",
    "- Celý výpočet aposteriorna je při konjugovaném apriornu jen přičítáním něčeho k apriorním hyperparametrům.\n",
    "- Pro přidání nových dat použijeme $a_1, b_1$ jako apriorní distribuci a dostaneme $a_2, b_2$.\n",
    "- Jako aposteriorní bodový odhad můžeme použít lecos, např. uvedená střední hodnota $\\mathbb{E}[\\pi|a_1,b_1] = \\frac{a_1}{a_1+b_1}$ nebo medián $\\tilde{\\pi} \\approx \\frac{a_1-1/3}{a_1+b_1-2/3}$, nebo modus $\\hat\\pi = \\frac{a_1-1}{a_1+b_1-2}$.\n",
    "- Míru nejistoty spjatou s bodovým odhadem často vyjadřujeme rozptylem, zde $\\text{var}\\pi = \\frac{a_1 b_1}{(a_1 + b_1)^2(a_1+b_1+1)}$. "
   ]
  },
  {
   "cell_type": "markdown",
   "metadata": {},
   "source": [
    "Následující grafy ukazují vývoj hustoty pravděpodobnosti beta rozdělení při 9 experimentech. V každém bylo 8x hozeno kostkou ($n=8$) a spočítány ruby ($k$) a líce ($n-k$). Apriorní beta rozdělení mělo hyperparametry $a=b=1$. V grafech je zobrazen vývoj hyperparametrů, střední hodnota a rozptyl, červeně je vykreslena středni hodnota. První graf je graf počátečního apriorna. Osa y je společná pro všechny grafy. Pro úplnost dodejme, že data byla generována z binomického rozdělení a odhadovaný parametr $\\pi$ měl nastavenu hodnotu 0.7, okolo níž by se hustota měla postupně koncentrovat.\n",
    "![Vývoj hustoty](img/l1-beta-mince.jpg)"
   ]
  }
 ],
 "metadata": {
  "kernelspec": {
   "display_name": "Python 3",
   "language": "python",
   "name": "python3"
  },
  "language_info": {
   "codemirror_mode": {
    "name": "ipython",
    "version": 3
   },
   "file_extension": ".py",
   "mimetype": "text/x-python",
   "name": "python",
   "nbconvert_exporter": "python",
   "pygments_lexer": "ipython3",
   "version": "3.6.4rc1"
  }
 },
 "nbformat": 4,
 "nbformat_minor": 2
}
