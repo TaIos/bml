{
 "cells": [
  {
   "cell_type": "markdown",
   "metadata": {},
   "source": [
    "# Přednáška 5: Variační Bayesova aproximace, bayesovská lineární regrese a její varianty, aplikace"
   ]
  },
  {
   "cell_type": "markdown",
   "metadata": {},
   "source": [
    "## Obsah přednášky\n",
    "- pravděpodobnostní modely\n",
    "- variační Bayesova aproximace\n",
    "    - ukážeme si skalární příklad\n",
    "- bayesovská lineární regrese\n",
    "- bayesovská řídká regrese\n",
    "- další možnosti modelování\n",
    "- ukázka aplikace"
   ]
  },
  {
   "cell_type": "markdown",
   "metadata": {},
   "source": [
    "## Bayesovský přístup - postup ve zkratce\n",
    "\n",
    "- volba modelu dat\n",
    "- volba apriorního rozdělení parametrů\n",
    "- výpočet aposteriorních rozdělení parametrů\n",
    "\n",
    "### Analogie s optimalizací\n",
    "\n",
    "Analogii si ukážeme na úloze lineární regrese, kde jsme v předchozí přednášce formulovali lineární regresi jako optimalizační problém.\n",
    "\n",
    "  | bayesovská formulace | formulace pomocí optimalizace\n",
    "- | - | -\n",
    "model dat | $f(y|\\beta)=\\mathcal{N}(X\\beta,I_p)$ | $||(\\mathbf{y} - X\\beta)^T(\\mathbf{y} - X\\beta)||$\n",
    "apriorno | $f(\\beta) = \\dots$ | $g(\\beta)$ \n"
   ]
  },
  {
   "cell_type": "markdown",
   "metadata": {},
   "source": [
    "## Variační Bayesova (VB) metoda \n",
    "\n",
    "Mějme model dat daný jako $f(\\mathbf{y}|\\theta)$, kde $\\theta$ je $q$-členná množina parametrů, $q>2$. Nechť $\\theta_1,\\dots,\\theta_q$ podmíněně nezávislé proměnné, tedy platí\n",
    "$$\n",
    "f\\left(\\theta_{1},\\theta_{2},\\dots,\\theta_{q}\\right)=\\prod_{i=1}^{q}f(\\theta_{i}).\n",
    "$$\n",
    "Potom pro aposteriorní rozdělení $\\tilde{f}(\\theta_{i}|\\mathbf{y})$, $i=1,\\dots,q$ platí\n",
    "$$\n",
    "\\tilde{f}\\left(\\theta_{i}|\\mathbf{y}\\right)\\propto\\exp\\left[E_{\\tilde{f}(\\theta_{\\backslash i}|\\mathbf{y})}\\left(\\ln f(\\theta_{1},\\theta_{2},\\dots,\\theta_{q},\\mathbf{y})\\right)\\right],\n",
    "$$\n",
    "kde symbol $\\theta_{\\backslash i}$ značí všechny proměnné z dané množiny až na i-tou a symbol $\\propto$ značí rovnost až na normovací konstantu.\n",
    "\n",
    "### Příklad: skalární dekompozice\n",
    "\n",
    "Mějme model skalární dekompozice \n",
    "$$\n",
    "d = ax + e,\n",
    "$$\n",
    "kde $d$ jsou data, $a$ a $x$ jsou neznámé proměnné a $e = \\mathcal{N}(0,r_e)$. Model dat tedy můžeme zapsat jako \n",
    "$$\n",
    "f(d|a,x) = \\mathcal{N}(ax,r_e).\n",
    "$$\n",
    "Apriorní modely pro $a$ a $x$ zvolíme jako\n",
    "$$\n",
    "f(a)= \\mathcal{N}(0,r_{a}),\\,\\,\\,\\,\\,\\,\\,\\, f(x)= \\mathcal{N}(0,r_{x}).\n",
    "$$\n",
    "Data $d$ a parametry $r_e$, $r_a$ a $r_x$ předpokládáme jako známé. Cílem je určit odhady $\\widehat{a}$\n",
    "a $\\widehat{x}$.\n",
    "\n",
    "Vyjádříme si logaritmus sdružené věrohodnosti (ten přesně pak potřebujeme do VB metody):\n",
    "$$\n",
    "\\ln f(a,x,d)\\propto-\\frac{1}{2}\\left(\\frac{(ax-d)^{2}}{r_{e}}+\\frac{a^{2}}{r_{a}}+\\frac{x^{2}}{r_{x}}\\right),\n",
    "$$\n",
    "který dosadíme do rovnice pro aposteriorno:\n",
    "$$\n",
    "\\tilde{f}\\left(a|d\\right)\\propto \\exp\\left[-\\frac{1}{2}a^{2}\\left(\\widehat{x^{2}}r_{e}^{-1}+r_{a}^{-1}\\right)-a\\left(d\\widehat{x}r_{e}^{-1}\\right)\\right],\\\\\n",
    "\\tilde{f}\\left(x|d\\right)\\propto \\exp\\left[-\\frac{1}{2}x^{2}\\left(\\widehat{a^{2}}r_{e}^{-1}+r_{x}^{-1}\\right)-x\\left(d\\widehat{a}r_{e}^{-1}\\right)\\right].\n",
    "$$\n",
    "Z výrazů pro aposteriorno vidíme, že má stejný funkcionální tvar jako apriorno, tedy \n",
    "$$\n",
    "\\tilde{f}\\left(a|d\\right)=\\mathcal{N}(\\mu_{a},\\sigma_{a}),\\,\\,\\,\\,\\,\\,\\,\\, \\tilde{f}\\left(x|d\\right)=\\mathcal{N}(\\mu_{x},\\sigma_{x}),\n",
    "$$\n",
    "kde tvarovací parametry $\\mu_{a},\\sigma_{a},\\mu_{x},\\sigma_{x}$ můžeme vyjádřit jako\n",
    "$$\n",
    "\\sigma_{a}= \\left(\\widehat{x^{2}}r_{e}^{-1}+r_{a}^{-1}\\right){}^{-1},\\\\\n",
    "\\mu_{a}= \\sigma_{a}d\\widehat{x}r_{e}^{-1},\\\\\n",
    "\\sigma_{x}= \\left(\\widehat{a^{2}}r_{e}^{-1}+r_{x}^{-1}\\right){}^{-1},\\\\\n",
    "\\mu_{x}= \\sigma_{x}d\\widehat{a}r_{e}^{-1},\n",
    "$$\n",
    "přičemž momenty normálního rozdělení jsou $\\widehat{a} = \\mu_a$ a $\\widehat{a^2} = \\mu_a^2 + \\sigma_a$.\n",
    "\n",
    "Tím máme vyjádřené aposteriorno, které se postupně updatuje pro jednotlivé parametry dokola: $\\widehat{a} \\longrightarrow \\widehat{x} \\longrightarrow \\widehat{a} \\longrightarrow \\dots$ Zapsáno jako algoritmus to vypadá následovně:\n",
    "\n",
    "### VB algoritmus pro skalární dekompozici:\n",
    "---\n",
    "1. inicializace $d$, $r_e$, $r_a$ a $r_x$\n",
    "2. zvolíme startovací $\\sigma_a$ a $\\mu_a$\n",
    "3. iterujeme do dosažení konvergence\n",
    "    - $\\sigma_{x}$, $\\mu_x$\n",
    "    - $\\sigma_{a}$, $\\mu_a$\n",
    "4. máme výsledné $\\widehat{a}$ a $\\widehat{x}$\n",
    "---\n",
    "\n",
    "Výsledek tedy vede na iterační algoritmus, u kterého máme zajišťěno, že konverguje k lokálnímu minimu. Tím pádem tedy samozřejmě záleží na tom, kde odstartujeme.\n",
    "\n",
    "<img src=\"img_ot/l5_vb_scalar.png\">"
   ]
  },
  {
   "cell_type": "markdown",
   "metadata": {},
   "source": [
    "## Bayesovská lineární regrese\n",
    "\n",
    "Připomeňme základní rovnici popisující lineární regresi jako\n",
    "$$\n",
    "\\mathbf{y}=X\\beta+\\mathbf{e},\n",
    "$$\n",
    "kde obdobně jako nejmenší čtverce a další předpokládám rozdělení chyb jako $e_{i}=\\mathcal{N}\\left(0,\\omega^{-1}\\right),\\ \\forall i$. Z toho nám přirozeně plyne následující model dat\n",
    "$$\n",
    "f(\\mathbf{y}|\\beta,\\omega)=\\mathcal{N}\\left(X\\beta,\\omega^{-1}I_{p}\\right),\n",
    "$$\n",
    "s neznámými parametry $\\beta$ a $\\omega$. Protože se nyní díváme na problém bayesovským pohledem, každý neznámý parametr je pro nás náhodná proměnná, které je nutno přiřadit vhodné apriorní rozdělení. My se budeme držet v exponenciální rodině a apriorní rozdělení zvolíme následovně:\n",
    "$$\n",
    "f(\\beta)= \\mathcal{N}\\left(\\mathbf{0},I_{n}\\right)=\\underbrace{\\left(2\\pi\\right)^{-\\frac{n}{2}}}_{coef}\\underbrace{\\left|I_{n}\\right|^{-\\frac{1}{2}}}_{coef}\\exp\\left(-\\frac{1}{2}\\boldsymbol{\\beta}'I_{n}^{-1}\\boldsymbol{\\beta}\\right),\\\\\n",
    "f(\\omega)= \\mathcal{G}\\left(c_{0},d_{0}\\right)=\\underbrace{\\frac{c_{0}^{d_{0}}}{\\Gamma(c_{0})}}_{coef}\\omega^{c_{0}-1}\\exp\\left(-d_{0}\\omega\\right)\n",
    "$$\n",
    "Tím máme plně určený model a můžeme aplikovat Bayesovu variační metodu obdobně jako pro skalární případ."
   ]
  },
  {
   "cell_type": "markdown",
   "metadata": {},
   "source": []
  },
  {
   "cell_type": "markdown",
   "metadata": {},
   "source": []
  },
  {
   "cell_type": "markdown",
   "metadata": {},
   "source": []
  }
 ],
 "metadata": {
  "kernelspec": {
   "display_name": "Python 3",
   "language": "python",
   "name": "python3"
  },
  "language_info": {
   "codemirror_mode": {
    "name": "ipython",
    "version": 3
   },
   "file_extension": ".py",
   "mimetype": "text/x-python",
   "name": "python",
   "nbconvert_exporter": "python",
   "pygments_lexer": "ipython3",
   "version": "3.5.2"
  }
 },
 "nbformat": 4,
 "nbformat_minor": 2
}
