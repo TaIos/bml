{
 "cells": [
  {
   "cell_type": "code",
   "execution_count": 1,
   "metadata": {},
   "outputs": [],
   "source": [
    "import numpy as np\n",
    "import matplotlib.pylab as plt\n",
    "np.set_printoptions(precision=2)"
   ]
  },
  {
   "cell_type": "markdown",
   "metadata": {},
   "source": [
    "# Přednáška 4: Sekvenční odhad lineárních modelů, predikce\n",
    "\n",
    "Uvažujme pozorovatelný náhodný proces $\\{Y_t|X_t; t=1,2,\\ldots\\}$ s nezávislými stejně rozdělenými realizacemi $y_1, y_2,\\ldots$ determinovanými známou pozorovanou veličinou $X_t$, např. regresorem. Ten může a nemusí existovat, o tom více později. Naším cílem nechť je tento proces modelovat prostřednictvím vhodného pravděpodobnostního modelu $f(y_t|x_t, \\theta)$, kde $\\theta$ je neznámý parametr, jehož odhad je samozřejmě pro kvalitu modelu rozhodující. Uvažujme dále, že toto modelování chceme dělat online, např. pro účely předpovědi (počasí, směnných kurzů, polohy letícího cíle aj.).\n",
    "\n",
    "Existuje více způsobů, jak k modelování přistoupit. Například:\n",
    "- počítat periodicky odhad na **datovém okně**. To může zahrnovat všechna data od počátku $t=1$ až po okamžik současný. Nevýhodou tohoto způsobu je jeho velká náročnost na paměť a postupně rostoucí výpočetní náročnost, vyžadující rychlé zpracování i extrémního množství dat v krátkém čase.\n",
    "- periodicky odhadovat $\\theta$ na **plovoucím datovém okně**. Jde o jeden z velmi častých přístupů, kdy sice používáme ta samá data nějakou dobu dokola, ale jejich množství je omezené. Můžeme například počítat z posledních 100 dat a předchozí data zahazovat.\n",
    "- plně sekvenční odhad, kdy ke stávající informaci přidáváme pouze nejnovější data. Pokud je model snadno upočitatelný a data nemění rozdělení, je tento postup obzvlášť výhodný."
   ]
  },
  {
   "cell_type": "markdown",
   "metadata": {},
   "source": [
    "## Příklady modelů"
   ]
  },
  {
   "cell_type": "markdown",
   "metadata": {},
   "source": [
    "## Konjugovaná apriorna"
   ]
  },
  {
   "cell_type": "markdown",
   "metadata": {},
   "source": [
    "## Regresní model"
   ]
  }
 ],
 "metadata": {
  "kernelspec": {
   "display_name": "Python 3",
   "language": "python",
   "name": "python3"
  },
  "language_info": {
   "codemirror_mode": {
    "name": "ipython",
    "version": 3
   },
   "file_extension": ".py",
   "mimetype": "text/x-python",
   "name": "python",
   "nbconvert_exporter": "python",
   "pygments_lexer": "ipython3",
   "version": "3.6.4rc1"
  }
 },
 "nbformat": 4,
 "nbformat_minor": 2
}
