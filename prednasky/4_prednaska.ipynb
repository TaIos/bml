{
 "cells": [
  {
   "cell_type": "code",
   "execution_count": 1,
   "metadata": {},
   "outputs": [],
   "source": [
    "import numpy as np\n",
    "import matplotlib.pylab as plt\n",
    "np.set_printoptions(precision=2)"
   ]
  },
  {
   "cell_type": "markdown",
   "metadata": {},
   "source": [
    "# Přednáška 4: Sekvenční odhad lineárních modelů, predikce\n",
    "\n",
    "Uvažujme pozorovatelný náhodný proces $\\{Y_t|X_t; t=1,2,\\ldots\\}$ s nezávislými stejně rozdělenými realizacemi $y_1, y_2,\\ldots$ determinovanými známou pozorovanou veličinou $X_t$, např. regresorem. Ten může a nemusí existovat, o tom více později. Naším cílem nechť je tento proces modelovat prostřednictvím vhodného pravděpodobnostního modelu $f(y_t|x_t, \\theta)$, kde $\\theta$ je neznámý parametr, jehož odhad je samozřejmě pro kvalitu modelu rozhodující. Uvažujme dále, že toto modelování chceme dělat online, např. pro účely předpovědi (počasí, směnných kurzů, polohy letícího cíle aj.).\n",
    "\n",
    "Existuje více způsobů, jak k modelování přistoupit. Například:\n",
    "- počítat periodicky odhad na **datovém okně**. To může zahrnovat všechna data od počátku $t=1$ až po okamžik současný. Nevýhodou tohoto způsobu je jeho velká náročnost na paměť a postupně rostoucí výpočetní náročnost, vyžadující rychlé zpracování i extrémního množství dat v krátkém čase.\n",
    "- periodicky odhadovat $\\theta$ na **plovoucím datovém okně**. Jde o jeden z velmi častých přístupů, kdy sice používáme ta samá data nějakou dobu dokola, ale jejich množství je omezené. Můžeme například počítat z posledních 100 dat a předchozí data zahazovat.\n",
    "- plně sekvenční odhad, kdy ke stávající informaci přidáváme pouze nejnovější data. Pokud je model snadno upočitatelný a data nemění rozdělení, je tento postup obzvlášť výhodný."
   ]
  },
  {
   "cell_type": "markdown",
   "metadata": {},
   "source": [
    "## Příklady modelů"
   ]
  },
  {
   "cell_type": "markdown",
   "metadata": {},
   "source": [
    "## Bayesovské odhadování - malé repetitorium\n",
    "\n",
    "Označme $y_t$ pozorovanou náhodnou veličinu (data, měření) v diskrétních časových okamžicích $t=0, 1,2,\\ldots$, a vektor jejích hodnot $y_{0,t-1} = [y_0, y_1, \\ldots, y_{t-1}]$. Budiž jednotlivé $y_t$ nezávislé a stejně rozdělené. Nechť je $y_t$ determinováno známou veličinou $x_t$ (např. regresorem) a konstatním parametrem $\\theta$. Označme rovněž $x_{0,t-1} = [x_0, x_1, \\ldots, y_{x-1}]$. \n",
    "\n",
    "Uvažujeme dále, že apriorní hustota $\\pi(\\theta|x_0, y_0)$ nese nějakou \"vhodnou\" znalost, např. z minulosti, nebo je neinformativní. Veličiny $x_0$ a $y_0$ mají roli \"pseudo-dat$ (pseudopozorování, pseudoměření).\n",
    "\n",
    "> **Věta (Bayesova)**\n",
    ">\n",
    "> Nechť $f(y_t|x_t, \\theta)$ je hustota pravděpodobnosti $y_t|x_t,\\theta$. Dále nechť $\\pi(\\theta|y_{0:t-1}, x_{0:t-1})$ je apriorní hustota pro $\\theta$. Aposteriorní hustota pro jednokrokový update má tvar\n",
    ">\n",
    "$$\n",
    "\\begin{aligned}\n",
    "\\pi(\\theta|y_{0:t}, x_{0,t}) \n",
    "&= \n",
    "\\frac\n",
    "{f(y_t|x_t, \\theta) \\pi(\\theta|x_{0:t-1}, y_{0:t-1})}\n",
    "{\\int f(y_t|x_t, \\theta) \\pi(\\theta|x_{0:t-1}, y_{0:t-1})d\\theta} \\\\\n",
    "&=\n",
    "\\frac\n",
    "{f(y_t|x_t, \\theta) \\pi(\\theta|x_{0:t-1}, y_{0:t-1})}\n",
    "{f(y_t|x_t)} \\\\\n",
    "&\\propto\n",
    "f(y_t|x_t, \\theta) \\pi(\\theta|x_{0:t-1}, y_{0:t-1}).\n",
    "\\end{aligned}\n",
    "$$\n",
    "\n",
    "Poslední řádek bude náš nejoblíbenější, neboť vyjadřuje bayesovský update v jednoduchém zápisu - bez normalizující hustoty ve jmenovateli. Ta je totiž nezávislá na odhadovaném parametru $\\theta$. Normalizaci si (*teoreticky*) snadno zařídíme kdykoliv.\n",
    "\n",
    "Odvoďme si nyní bayesovský update pro více dat současně:\n",
    "$$\n",
    "\\begin{aligned}\n",
    "\\pi(\\theta|y_{0:1}, x_{0:1})\n",
    "&\\propto\n",
    "f(y_1|x_1, \\theta) \\pi(\\theta|x_{0}, y_{0}) \\\\\n",
    "\\pi(\\theta|y_{0:2}, x_{0:2})\n",
    "&\\propto\n",
    "f(y_2|x_2, \\theta) \\pi(\\theta|x_{0:1}, y_{0:1}) \\\\\n",
    "&\\propto \\pi(\\theta|x_{0}, y_{0}) f(y_1|x_1, \\theta) f(y_2|x_2, \\theta) \\\\\n",
    "&\\vdots \\\\\n",
    "\\pi(\\theta|y_{0:t}, x_{0:t})\n",
    "&\\propto\n",
    "\\pi(\\theta|y_{0}, x_{0})\n",
    "\\prod_{\\tau = 1}^{t}\n",
    "f(y_{\\tau}|x_{\\tau}, \\theta) \\\\\n",
    "&\\propto\n",
    "\\pi(\\theta|y_{0:\\tau-1}, x_{0:\\tau-1})\n",
    "\\prod_{\\tau = \\widetilde{\\tau}}^{t}\n",
    "f(y_{\\widetilde\\tau}|x_{\\widetilde\\tau}, \\theta),\n",
    "\\end{aligned}\n",
    "$$\n",
    "kde předposlední řádek říká, že můžeme pronásobit modely a pak teprve updatovat počáteční apriorno a poslední řádek říká, že totéž můžeme udělat v kterémkoliv čase. Závěr: sekvenční update po jednom datu je stejný, jako update více daty najednou.\n",
    "\n",
    "** Úkoly **\n",
    "- jak si zařídíme normalizaci v posledním řádku uvedené Bayesovy věty?\n",
    "- uvědomte si, jak vypadá aposteriorno. Jaké musí mít vlastnosti. A co když vezmeme jako model nějakou distribuci, např. beta a jako apriorno např. také beta? Co můžeme o vzniklém aposteriornu říci?"
   ]
  },
  {
   "cell_type": "markdown",
   "metadata": {},
   "source": [
    "## Sekvenční odhad\n",
    "\n",
    "Výše jsme si ukázali, že teoreticky je sekvenční bayesovský update jednoduchá záležitost. Použijeme apriorní distribuci, přidáme nové pozorování, dostaneme aposteriorní a tu opět použijeme jako apriorní pro další pozorování:\n",
    "\n",
    "$$\n",
    "\\pi(\\theta|x_{0}, y_{0}) \\xrightarrow[\\text{Bayes}]{x_1, y_1}\n",
    "\\pi(\\theta|x_{0:1}, y_{0:1}) \\xrightarrow[\\text{Bayes}]{x_2, y_2}\n",
    "\\pi(\\theta|x_{0:2}, y_{0:2}) \\rightarrow\n",
    "\\cdots \\xrightarrow[\\text{Bayes}]{x_t, y_t}\n",
    "\\pi(\\theta|x_{0:t}, y_{0:t}) \\rightarrow\n",
    "\\cdots\n",
    "$$\n",
    "\n",
    "Připomeňme dále, že jako bodový odhad $\\theta$ můžeme použít například\n",
    "- střední hodnotu $\\mathbb{E}[\\theta]$, přesněji $\\mathbb{E}[\\theta|x_{0:t}, y_{0:t}]$, nebo \n",
    "- modus (maximum hustoty psti) - tzv. maximum aposteriori (MAP) odhad, nebo \n",
    "- medián (prostřední hodnotu).\n",
    "\n",
    "Jak moc tomuto odhadu věříme, neboli jak mnoho informace aposteriorní distribuce obsahuje, nám udává například rozptyl, $\\text{var}\\theta$.\n",
    "\n",
    "**\n",
    "Ač se to ze vzorců výše možná nezdá, zásadním problémem bayesovského odhadu (modelování) je odvození aposteriorní distribuce a jejích vlastností. A se sekvenčním odhadem se tento problém ještě umocňuje. Pokud po prvním updatu není aposteriorno některou z \"běžných\" distribucí, pak s dalším updatem je aposteriorno ještě komplikovanější.\n",
    "**\n",
    "\n",
    "**\n",
    "Existuje ale případ, kdy výpočty půjdou velmi pohodlně. K tomu si musíme zavést exponenciální třídu distribucí a konjugovaná apriorna.\n",
    "**"
   ]
  },
  {
   "cell_type": "markdown",
   "metadata": {},
   "source": [
    "> **Definice (exponenciální třída distribucí)**\n",
    ">\n",
    "> Uvažujme náhodnou veličinu $y$ podmíněnou veličinou $x$ a parametrem $\\theta$. Exponenciální třída distribucí obsahuje distribuce s hustotou pravděpodobnosti ve tvaru\n",
    "> $$\n",
    "f(y|x, \\theta) = h(y, x) g(\\theta) \\exp \\left[ \\eta^{\\intercal} T(y,x) \\right],\n",
    "$$\n",
    ">\n",
    "> kde $\\eta \\equiv \\eta(\\theta)$ je přirozený parametr, $T(y,x)$ je suficientní statistika fixního rozměru, $h(y,x)$ je známá funkce a $g(\\theta)$ je normalizační funkce. Platí-li $\\eta(\\theta)=\\theta$ je třída kanonická.\n",
    "\n",
    "\n",
    "> **Definice (konjugovaná apriorní distribuce)**\n",
    ">\n",
    "> Nechť $y|x, \\theta$ má rozdělení z exponenciální třídy distribucí. Říkáme, že apriorní distribuce $\\theta$ s hyperparametry $\\xi$ a $\\nu$ je k němu konjugovaná, pokud její hustota pravděpodobnosti má tvar\n",
    "$$\n",
    "        \\pi(\\theta) = q(\\xi, \\nu) g(\\theta)^{\\nu} \\exp \\left[ \\eta^{\\intercal} \\xi \\right],\n",
    "$$\n",
    ">\n",
    ">kde $\\xi$ má stejný rozměr jako $T(y,x)$, $\\nu\\in\\mathbb{R}^{+}$ a $q(\\xi,\\nu)$ je známá funkce. Funkce $g(\\theta)$ je stejná jako normalizační funkce v hustotě pro $y|x, \\theta$.\n",
    "\n",
    "$$\n",
    "\\begin{aligned}\n",
    "    \\xi_{t} &= \\xi_{t-1} + T(y_{t},x_{t}), \\\\\n",
    "    \\nu_{t} &= \\nu_{t-1} + 1.\n",
    "\\end{aligned}\n",
    "$$\n",
    "$$\n",
    "\\begin{aligned}\n",
    "    \\xi_{t} &= \\xi_{\\tau-1} + \\sum_{\\widetilde{\\tau}=\\tau}^{t} T(y_{\\widetilde{\\tau}},x_{\\widetilde{\\tau}}),\\\\\n",
    "    \\nu_{t} &= \\nu_{\\tau-1} + t - \\tau+1.\n",
    "\\end{aligned}\n",
    "$$"
   ]
  },
  {
   "cell_type": "markdown",
   "metadata": {},
   "source": [
    "## Regresní model"
   ]
  }
 ],
 "metadata": {
  "kernelspec": {
   "display_name": "Python 3",
   "language": "python",
   "name": "python3"
  },
  "language_info": {
   "codemirror_mode": {
    "name": "ipython",
    "version": 3
   },
   "file_extension": ".py",
   "mimetype": "text/x-python",
   "name": "python",
   "nbconvert_exporter": "python",
   "pygments_lexer": "ipython3",
   "version": "3.6.4rc1"
  }
 },
 "nbformat": 4,
 "nbformat_minor": 2
}
