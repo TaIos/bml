{
 "cells": [
  {
   "cell_type": "markdown",
   "metadata": {},
   "source": [
    "# Přednáška 1: Základy a specifika bayesovské teorie"
   ]
  },
  {
   "cell_type": "markdown",
   "metadata": {},
   "source": [
    "**Obsah přednášky**\n",
    "- Základy a specifika bayesovské teorie - neurčitost, vývoj znalosti, typy odhadů, metody.\n",
    "- Zavedení pojmů machine learning a bayesovství (zatím vágně)\n",
    "- Apriorní znalost a její kvantifikace distribucí\n",
    "- Aposteriorní znalost coby apriorno aktualizované daty (měřeními, pozorováními)\n",
    "- Teoretická možnost sekvenčního updatu apost -> apriorno -> aposteriorno -> apriorno…\n",
    "- Data popisuje model (připouštíme nepřesnost modelu)\n",
    "- Ten update dělá Bayesova věta - k tomu potřebujeme trochu matematiky\n",
    "  - distribuce psti, hustota psti (diskrétní a spojitý případ)\n",
    "  - jedno a vícerozměrné případy (hustoty, nezávislost na pořadí proměnných)\n",
    "  - marginalizace\n",
    "  - řetězové pravidlo\n",
    "  - Bayesova věta\n",
    "- rozhodovací stromy\n",
    "- Problémy s odvozením aposteriorna\n",
    "  - někdy to jde analyticky (příští přednáška)\n",
    "  - někdy se musí aproximovat (zmínka o VB, Monte Carlo, MCMC…)\n",
    "- Typy odhadů\n",
    "  - Bodové odhady - co zvolit? Střední hodnota, medián, modus…\n",
    "  - Intervalové odhady - credibility intervaly (highest probability region) vs. frekventistické odhady\n",
    "  - Konzistence odhadu (vágně)\n",
    "- Stručné srovnání s frekventismem\n",
    "  - rozdíl je ve filosofii, správné jsou oba přístupy\n"
   ]
  },
  {
   "cell_type": "markdown",
   "metadata": {},
   "source": [
    "## Apriorní znalost\n",
    "\n",
    "**Apriorní znalost je počáteční znalost o studované proměnné před zohledněním dat (pozorování, měření...).**\n",
    "\n",
    "*Příklad s kostkou - diskrétní veličiny: Máme-li kvantifikovat náš odhad rozdělení pravděpodobností jednotlivých stran kostky, aniž bychom s ní jedinkrát hodili, s největší pravděpodobností budeme předpokládat, že je rovnoměrné, tj. každá strana je stejně pravděpodobná. To je varianta (A), tzv. férová kostka. Pokud ale hrajeme s nějakým koumákem a ten má kostku vlastní, můžeme dopředu přepokládat, že ta nebude zrovna férová, ale šestka bude výrazně pravděpodobnější - varianta (B). A do třetice můžeme jednotlivým stranám přidělit pravděpodobnosti nějak náhodně - varianta (C).*\n",
    "![Apriorna u kostky](img/l1-prior-kostka.jpg)\n",
    "\n",
    "\n",
    "*Příklad s mincí - spojitá veličina: Označme Y stranu mince (např. panna) a kvantifikujme pravděpodobnost, že padne, tedy p(X). Můžeme například vycházet tvrdit, že o takové pravděpodobnosti nevíme vůbec nic, kromě toho, že je od 0 do 1 - případ (A). Alternativně můžeme předpokládat, že je pravděpodobně koncentrována kolem hodnoty 0.5 - případ (B1) a (B2). Za povšimnutí stojí, že i první případ má střední hodnotu 0.5, ale ta je stejně pravděpodobná, jako všechny ostatní, zatímco u (B1) a (B2) jsou hodnoty více a ještě více koncentrovány. A nebo můžeme předpokládat, že mince není úplně férová a čekáme, že panna padá častěji - případ (C). Mohli bychom najít spoustu jiných případů, např. degenerovanou variantu od (B1) resp. (B2) - Diracovu distribuci shrnující celou pravděpodobnost do jediného bodu.\n",
    "![Apriorna u mince](img/l1-prior-mince.jpg)\n",
    "Pozn.: ano, opravdu kvantifikujeme pravděpodobnost pravděpodobnosti :-)*\n",
    "\n",
    "**Jak je zřejmé, apriorní znalost vyjadřujeme tzv. _apriorní distribucí_, kterou je buď pravděpodobnost (v diskrétním případě), nebo hustota pravděpodobnosti (ve spojitém případě). Měli-li bychom znalosti teorie míry, mohli bychom mluvit o hustotě psti v obou případech :-)**"
   ]
  }
 ],
 "metadata": {
  "kernelspec": {
   "display_name": "Python 3",
   "language": "python",
   "name": "python3"
  },
  "language_info": {
   "codemirror_mode": {
    "name": "ipython",
    "version": 3
   },
   "file_extension": ".py",
   "mimetype": "text/x-python",
   "name": "python",
   "nbconvert_exporter": "python",
   "pygments_lexer": "ipython3",
   "version": "3.6.4rc1"
  }
 },
 "nbformat": 4,
 "nbformat_minor": 2
}
