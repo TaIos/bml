{
 "cells": [
  {
   "cell_type": "markdown",
   "metadata": {},
   "source": [
    "# Bayesovské metody v ML\n",
    "\n",
    "- vyučující, kontakty (OT, KD)\n",
    "- kontakt mezi studenty\n",
    "- materiál k předmětu na githubu: https://github.com/kamil-dedecius/bml\n",
    "- rigorozita stranou\n",
    "- podmínky zápočtu\n",
    "  - průzkumy - 7b\n",
    "  - cvičení - 8b\n",
    "  - aktivita - do 5b/den\n",
    "  - dobrovolný projekt - 30b\n",
    "  - hodnocení - hranice: 60E, 70D, 80C, 90B, 100A  \n",
    "- doporučená literatura\n",
    "---"
   ]
  },
  {
   "cell_type": "markdown",
   "metadata": {},
   "source": [
    "# Příklady aneb proč bayesovství"
   ]
  },
  {
   "cell_type": "markdown",
   "metadata": {},
   "source": [
    "## Sledování polohy objektu\n",
    "\n",
    "![Trajektorie letícího objektu](img/l0-trajectory.jpg)"
   ]
  },
  {
   "cell_type": "markdown",
   "metadata": {},
   "source": [
    "## Hledání ztracených objektů\n",
    "\n",
    "** Jako ponorek... (USS Scorpion)**\n",
    "![USS Scorpion](img/l0-ussscorpion.jpg)\n",
    "\n",
    "** ...letadel (AF447, MH370)... **\n",
    "![AF447](img/l0-af447.jpg)\n",
    "\n",
    "** ...vodíkových bomb... (Palomares B52)**\n",
    "![Palomares](img/l0-palomares.jpg)\n",
    "\n",
    "** ...nebo třeba zdroje úniku radioaktivní látky.**\n",
    "![Radio](img/l0-map.png)\n",
    "\n",
    "\n",
    "## Bohatnutí na burze, sázení na sportovní utkání...\n",
    "\n",
    "### ...a nebo prostě pro radost :-)"
   ]
  }
 ],
 "metadata": {
  "kernelspec": {
   "display_name": "Python 3",
   "language": "python",
   "name": "python3"
  },
  "language_info": {
   "codemirror_mode": {
    "name": "ipython",
    "version": 3
   },
   "file_extension": ".py",
   "mimetype": "text/x-python",
   "name": "python",
   "nbconvert_exporter": "python",
   "pygments_lexer": "ipython3",
   "version": "3.6.4rc1"
  }
 },
 "nbformat": 4,
 "nbformat_minor": 2
}
