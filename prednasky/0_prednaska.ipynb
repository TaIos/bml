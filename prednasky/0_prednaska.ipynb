{
 "cells": [
  {
   "cell_type": "markdown",
   "metadata": {},
   "source": [
    "# Bayesovské metody v ML\n",
    "\n",
    "- vyučující, kontakty (OT, KD)\n",
    "- **Motto:** *půjdeme po principech, ne matematické rigorozitě*\n",
    "- **Materiál** \n",
    "   -https://github.com/kamil-dedecius/bml\n",
    "- **podmínky zápočtu**\n",
    "   - průzkumy - 10x 7b\n",
    "   - cvičení - 6x 5b\n",
    "   - aktivita - až 5b/den\n",
    "   - dobrovolný projekt - až 30b\n",
    "   - hodnocení - hranice: 60E, 70D, 80C, 90B, 100A  \n",
    "- **doporučená literatura**\n",
    "   - C. Robert: The Bayesian choice\n",
    "   - A. Gelman et al.: Bayesian data analysis\n",
    "   - D. Barber: Bayesian reasoning and machine learning\n",
    "   - a skoro cokoliv s \"Bayes, bayesian\" v názvu :-)"
   ]
  },
  {
   "cell_type": "markdown",
   "metadata": {},
   "source": [
    "# Příklady aneb proč bayesovství\n",
    "\n",
    "Proč bayesovsky a proč ne frekventisticky (BI-PST)?\n",
    "\n",
    "**Oba přístupy jsou OK, pokud uvažujeme v intencích jejich odlišných filosofií a správně interpretujeme výsledky!**"
   ]
  },
  {
   "cell_type": "markdown",
   "metadata": {},
   "source": [
    "## Sledování polohy objektu\n",
    "\n",
    "![Trajektorie letícího objektu](img/l0-trajectory.jpg)"
   ]
  },
  {
   "cell_type": "markdown",
   "metadata": {},
   "source": [
    "## Hledání ztracených objektů\n",
    "\n",
    "** Jako ponorek... ([USS Scorpion](https://en.wikipedia.org/wiki/USS_Scorpion_(SSN-589&#41; ))**\n",
    "![USS Scorpion](img/l0-ussscorpion.jpg)\n",
    "\n",
    "** ...letadel ([AF447](https://en.wikipedia.org/wiki/Air_France_Flight_447), [MH370](https://en.wikipedia.org/wiki/Malaysia_Airlines_Flight_370))... **\n",
    "![AF447](img/l0-af447.jpg)\n",
    "\n",
    "** ...vodíkových bomb... ([Palomares B52](https://en.wikipedia.org/wiki/1966_Palomares_B-52_crash))**\n",
    "![Palomares](img/l0-palomares.jpg)\n",
    "\n",
    "** ...nebo třeba zdroje [úniku radioaktivní látky]((https://en.wikipedia.org/wiki/Paks_Nuclear_Power_Plant#Incidents)).**\n",
    "![Radio](img/l0-map.png)\n",
    "\n",
    "## Image processing\n",
    "\n",
    "**Denoising in [MRI](https://en.wikipedia.org/wiki/Magnetic_resonance_imaging)**\n",
    "![MRI](img/denoisingbrain.png)\n",
    "\n",
    "\n",
    "## Bohatnutí na burze, sázení na sportovní utkání...\n",
    "\n",
    "### ...a nebo prostě pro radost :-)"
   ]
  },
  {
   "cell_type": "markdown",
   "metadata": {},
   "source": [
    "## Doporučené čtení\n",
    "\n",
    "[**S.B. McGrayne \"_The Theory That Would Not Die: How Bayes' Rule Cracked the Enigma Code, Hunted Down Russian Submarines, and Emerged Triumphant from Two Centuries of Controversy_\"**](https://www.amazon.com/Theory-That-Would-Not-Die/dp/0300188226)\n",
    "\n",
    "Krásná knížka o historii a aplikacích bayesovských principů pro řešení reálných (a většinou zajímavých) problémů. Beletrie bez vzorečků :-)"
   ]
  }
 ],
 "metadata": {
  "kernelspec": {
   "display_name": "Python 3",
   "language": "python",
   "name": "python3"
  },
  "language_info": {
   "codemirror_mode": {
    "name": "ipython",
    "version": 3
   },
   "file_extension": ".py",
   "mimetype": "text/x-python",
   "name": "python",
   "nbconvert_exporter": "python",
   "pygments_lexer": "ipython3",
   "version": "3.7.2+"
  }
 },
 "nbformat": 4,
 "nbformat_minor": 2
}
